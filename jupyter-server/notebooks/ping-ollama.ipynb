{
 "cells": [
  {
   "cell_type": "code",
   "execution_count": 2,
   "id": "85658331-a78f-4d69-b814-6754d207ffbc",
   "metadata": {},
   "outputs": [],
   "source": [
    "# !pip install requests\n",
    "# !pip install beautifulsoup4\n",
    "# !pip install langchain-community\n",
    "# !pip install langchain-text-splitters\n",
    "# !pip install langchain-chroma\n",
    "# !pip install -U langchain-ollama"
   ]
  },
  {
   "cell_type": "code",
   "execution_count": 4,
   "id": "341bdfbe-437d-47ca-aed8-754699dcdeb7",
   "metadata": {},
   "outputs": [
    {
     "name": "stdout",
     "output_type": "stream",
     "text": [
      "Mozilla/5.0 (Windows NT 10.0; Win64; x64) AppleWebKit/537.36 (KHTML, like Gecko) Chrome/123.0.0.0 Safari/537.36\n"
     ]
    }
   ],
   "source": [
    "import os\n",
    "\n",
    "# ตั้งค่าให้ Ollama ใช้เซิร์ฟเวอร์ที่รันอยู่บนเครื่องอื่น\n",
    "os.environ[\"USER_AGENT\"] = \"Mozilla/5.0 (Windows NT 10.0; Win64; x64) AppleWebKit/537.36 (KHTML, like Gecko) Chrome/123.0.0.0 Safari/537.36\"\n",
    "\n",
    "# ตรวจสอบว่าตัวแปรถูกตั้งค่าแล้วหรือไม่\n",
    "print(os.getenv(\"USER_AGENT\"))"
   ]
  },
  {
   "cell_type": "code",
   "execution_count": 7,
   "id": "688a6704-7f44-497b-b46a-32467ae9d1c6",
   "metadata": {},
   "outputs": [
    {
     "name": "stdout",
     "output_type": "stream",
     "text": [
      "[Document(metadata={'source': 'http://ollama:11434'}, page_content='Ollama is running')]\n"
     ]
    }
   ],
   "source": [
    "import bs4\n",
    "import requests\n",
    "from langchain_community.document_loaders import WebBaseLoader\n",
    "\n",
    "# Monkey Patch requests.get เพื่อใส่ User-Agent\n",
    "original_get = requests.get\n",
    "\n",
    "def patched_get(url, *args, **kwargs):\n",
    "    headers = kwargs.pop(\"headers\", {})\n",
    "    headers[\"User-Agent\"] = \"Mozilla/5.0 (Windows NT 10.0; Win64; x64) AppleWebKit/537.36 (KHTML, like Gecko) Chrome/123.0.0.0 Safari/537.36\"\n",
    "    return original_get(url, headers=headers, *args, **kwargs)\n",
    "\n",
    "requests.get = patched_get  # ใช้ patched version ของ requests.get\n",
    "\n",
    "# ใช้ WebBaseLoader ตามปกติ\n",
    "loader = WebBaseLoader(\n",
    "    web_paths=(\"http://ollama:11434\",),\n",
    ")\n",
    "docs = loader.load()\n",
    "\n",
    "# คืนค่า requests.get กลับเป็นปกติ (ถ้าต้องการ)\n",
    "requests.get = original_get\n",
    "\n",
    "print(docs)"
   ]
  },
  {
   "cell_type": "code",
   "execution_count": null,
   "id": "72ec000f-5792-4929-b006-3c18da8aae5c",
   "metadata": {},
   "outputs": [],
   "source": []
  }
 ],
 "metadata": {
  "kernelspec": {
   "display_name": "Python 3 (ipykernel)",
   "language": "python",
   "name": "python3"
  },
  "language_info": {
   "codemirror_mode": {
    "name": "ipython",
    "version": 3
   },
   "file_extension": ".py",
   "mimetype": "text/x-python",
   "name": "python",
   "nbconvert_exporter": "python",
   "pygments_lexer": "ipython3",
   "version": "3.11.6"
  }
 },
 "nbformat": 4,
 "nbformat_minor": 5
}
