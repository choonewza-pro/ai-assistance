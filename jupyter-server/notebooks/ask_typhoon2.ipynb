{
 "cells": [
  {
   "cell_type": "code",
   "execution_count": 8,
   "id": "6aa207d0-8325-4b61-8fee-51082fe21fcd",
   "metadata": {},
   "outputs": [],
   "source": [
    "# !pip install transformers torch\n",
    "# !pip install 'accelerate>=0.26.0'\n",
    "\n",
    "# นำเข้าโมดูลที่ต้องการ\n",
    "from transformers import AutoTokenizer, AutoModelForCausalLM\n",
    "import torch\n",
    "\n",
    "def askTyphoon2(prompt: str):\n",
    "    # โหลดโมเดลและ tokenizer\n",
    "    model_id = \"scb10x/llama3.2-typhoon2-1b-instruct\"\n",
    "    tokenizer = AutoTokenizer.from_pretrained(model_id)\n",
    "    model = AutoModelForCausalLM.from_pretrained(model_id, torch_dtype=torch.bfloat16)\n",
    "    # model = AutoModelForCausalLM.from_pretrained(model_id, torch_dtype=torch.bfloat16, device_map=\"auto\")\n",
    "\n",
    "    # เตรียมข้อความนำเข้า\n",
    "    messages = [\n",
    "        {\"role\": \"system\", \"content\": \"คุณคือผู้ช่วย AI ที่ให้คำตอบอย่างดี\"},\n",
    "        {\"role\": \"user\", \"content\": prompt}\n",
    "    ]\n",
    "    # แปลงข้อความเป็น token (คืนค่าเป็น tensor โดยตรง)\n",
    "    input_ids = tokenizer.apply_chat_template(messages, add_generation_prompt=True, return_tensors=\"pt\").to(model.device)\n",
    "    \n",
    "    # สร้าง attention_mask จาก input_ids (1 สำหรับ token จริง, 0 สำหรับ padding)\n",
    "    attention_mask = (input_ids != tokenizer.pad_token_id).long().to(model.device)\n",
    "    \n",
    "    # กำหนดพารามิเตอร์สำหรับการสร้างข้อความ\n",
    "    terminators = [tokenizer.eos_token_id, tokenizer.convert_tokens_to_ids(\"<|eot_id|>\")]\n",
    "    \n",
    "    # สร้างข้อความตอบกลับ\n",
    "    outputs = model.generate(\n",
    "        input_ids,\n",
    "        attention_mask=attention_mask,  # ส่ง attention_mask เข้าไป\n",
    "        max_new_tokens=512,\n",
    "        eos_token_id=terminators,\n",
    "        do_sample=True,\n",
    "        temperature=0.7,\n",
    "        top_p=0.95,\n",
    "        pad_token_id=tokenizer.pad_token_id  # กำหนด pad_token_id อย่างชัดเจน\n",
    "    )\n",
    "    \n",
    "    # แปลงผลลัพธ์กลับเป็นข้อความ\n",
    "    response = outputs[0][input_ids.shape[-1]:]\n",
    "    answer = tokenizer.decode(response, skip_special_tokens=True)\n",
    "    print(answer)"
   ]
  },
  {
   "cell_type": "code",
   "execution_count": 9,
   "id": "b95fa223-29c8-4873-9280-85afde773310",
   "metadata": {},
   "outputs": [
    {
     "name": "stdout",
     "output_type": "stream",
     "text": [
      "ในหมู่บ้านเล็กๆ แห่งหนึ่ง มีกระต่ายชื่อ \"เจ้ากระต่าย\" และเต่าชื่อ \"เจ้าเต่า\" ทั้งสองเป็นเพื่อนรักและต้องการสร้างสรรค์สิ่งใหม่ๆ เพื่อให้บ้านของพวกเขาดูโดดเด่นยิ่งขึ้น\n",
      "\n",
      "วันหนึ่ง กระต่ายได้ไอเดียเก๋ๆ ว่า \"เราสามารถทำสวนแห่งความสุขในบ้านของเรา!\" และด้วยความคิดสร้างสรรค์ของมัน กระต่ายก็ช่วยเต่าในการปลูกต้นไม้และดูแลสวนให้เต็มไปด้วยสีสัน\n",
      "\n",
      "ส่วนเจ้าเต่าเอง ก็ไม่พลาดที่จะช่วยกระต่ายในการทำอาหารด้วยการช่วยเต่าปรุงอาหารอร่อยๆ ให้กระต่ายได้ทดลองชิม\n",
      "\n",
      "เมื่อเวลาผ่านไป สวนแห่งความสุขของพวกเขาก็เต็มไปด้วยดอกไม้และผลไม้หลากหลายชนิด ทำให้ทั้งกระต่ายและเต่ารู้สึกมีความสุขอย่างมาก\n",
      "\n",
      "ในที่สุด ทั้งสองเพื่อนรักได้เรียนรู้ว่าความสุขไม่ได้อยู่ที่สิ่งที่เราเห็น แต่คือการช่วยเหลือและแบ่งปันกัน ทำให้บ้านของพวกเขากลายเป็นสถานที่ที่เต็มไปด้วยความรักและการแบ่งปัน\n",
      "\n",
      "เรื่องราวนี้ไม่เพียงแต่สร้างความสุขให้กับกระต่ายและเต่า แต่ยังทำให้พวกเขาได้เรียนรู้ถึงคุณค่าของการช่วยเหลือกันในชีวิตประจำวันอีกด้วย\n"
     ]
    }
   ],
   "source": [
    "askTyphoon2(\"แต่งเรื่องกระต่ายกับเต่า\")"
   ]
  },
  {
   "cell_type": "code",
   "execution_count": null,
   "id": "7c175c60-3c51-434a-a3a5-6072ab6bea00",
   "metadata": {},
   "outputs": [],
   "source": []
  }
 ],
 "metadata": {
  "kernelspec": {
   "display_name": "Python 3 (ipykernel)",
   "language": "python",
   "name": "python3"
  },
  "language_info": {
   "codemirror_mode": {
    "name": "ipython",
    "version": 3
   },
   "file_extension": ".py",
   "mimetype": "text/x-python",
   "name": "python",
   "nbconvert_exporter": "python",
   "pygments_lexer": "ipython3",
   "version": "3.11.6"
  }
 },
 "nbformat": 4,
 "nbformat_minor": 5
}
