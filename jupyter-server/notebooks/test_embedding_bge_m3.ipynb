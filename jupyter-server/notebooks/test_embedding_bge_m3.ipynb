{
 "cells": [
  {
   "cell_type": "code",
   "execution_count": 8,
   "id": "df8947fe-52b4-4ffc-ad9d-004c4c2596fa",
   "metadata": {},
   "outputs": [],
   "source": [
    "# !pip install -U transformers langchain langchain_huggingface langchain_community sentence-transformers langchain_huggingface langchain_core chromadb ipywidgets"
   ]
  },
  {
   "cell_type": "code",
   "execution_count": 33,
   "id": "b8cc254d-9e61-427d-9bfe-4ac11030517f",
   "metadata": {},
   "outputs": [],
   "source": [
    "# !pip install -U ipywidgets"
   ]
  },
  {
   "cell_type": "code",
   "execution_count": 1,
   "id": "bb259161-f580-4a0c-bc4e-f563400dc1e8",
   "metadata": {},
   "outputs": [],
   "source": [
    "import os\n",
    "from langchain.text_splitter import RecursiveCharacterTextSplitter\n",
    "from langchain.vectorstores import Chroma\n",
    "from langchain_huggingface import HuggingFaceEmbeddings\n",
    "from langchain_core.documents import Document  # นำเข้า Document\n"
   ]
  },
  {
   "cell_type": "code",
   "execution_count": 6,
   "id": "fff1f9a9-3611-4521-bb3f-abc29ef67e3b",
   "metadata": {},
   "outputs": [],
   "source": [
    "def ingestFromText(text: str):\n",
    "    # สร้าง Document\n",
    "    documents = [Document(page_content=text, metadata={\n",
    "        \"source\":\"website.txt\"\n",
    "    })]\n",
    "    \n",
    "    # Split the text by char\n",
    "    text_splitter = RecursiveCharacterTextSplitter(\n",
    "        chunk_size=512,\n",
    "        chunk_overlap=51,\n",
    "        length_function=len,\n",
    "        strip_whitespace=True,\n",
    "    )\n",
    "    chunks = text_splitter.split_documents(documents)\n",
    "    print(f\"Split text into {len(chunks)} chunks.\")\n",
    "\n",
    "    # Use HuggingFaceEmbeddings with BAAI/bge-m3 model\n",
    "    # embedding = HuggingFaceEmbeddings(\n",
    "    #     model_name=\"BAAI/bge-m3\"\n",
    "    # )\n",
    "\n",
    "    model_name = \"BAAI/bge-m3\"\n",
    "    model_kwargs = {'device': 'cpu'}\n",
    "    encode_kwargs = {'normalize_embeddings': False}\n",
    "    \n",
    "    embedding = HuggingFaceEmbeddings(\n",
    "        model_name=model_name,\n",
    "        model_kwargs=model_kwargs,\n",
    "        encode_kwargs=encode_kwargs\n",
    "    )\n",
    "\n",
    "    # สร้างไดเรกทอรีสำหรับบันทึก embeddings\n",
    "    embeddings_dir = \"./embeddings-test_embedding\"\n",
    "    os.makedirs(embeddings_dir, exist_ok=True)\n",
    "    \n",
    "    # สร้าง vectorstore และบันทึก embeddings ลงในไฟล์\n",
    "    Chroma.from_documents(documents=chunks, embedding=embedding, persist_directory=embeddings_dir)\n",
    "\n",
    "    print(\"--- Ingest Text Successc ---\")"
   ]
  },
  {
   "cell_type": "code",
   "execution_count": 7,
   "id": "871aa9ca-7885-4133-91ca-db1f1ad005a4",
   "metadata": {},
   "outputs": [
    {
     "name": "stdout",
     "output_type": "stream",
     "text": [
      "Split text into 1 chunks.\n",
      "--- Ingest Text Successc ---\n"
     ]
    }
   ],
   "source": [
    "ingestFromText(\"โลกออนไลน์ต่างแชร์โพสต์ของ ผู้ใช้เฟซบุ๊ก “ตรีทิพยนิภา สุวรรณละมัย” ไปมากกว่า 2 หมื่นแชร์ หลังจากที่เธอโพสต์อุทาหรณ์การเสียชีวิตของ “ยุ้ย” ดาว TikTok ที่มีผู้ติดตามมากกว่า 3 แสนคน\")"
   ]
  },
  {
   "cell_type": "code",
   "execution_count": null,
   "id": "f3c814e5-de44-4e9e-b86b-b19cc7c45d5e",
   "metadata": {},
   "outputs": [],
   "source": []
  },
  {
   "cell_type": "code",
   "execution_count": null,
   "id": "925c87cc-d9e1-469a-8b5c-176505c9e820",
   "metadata": {},
   "outputs": [],
   "source": []
  }
 ],
 "metadata": {
  "kernelspec": {
   "display_name": "Python 3 (ipykernel)",
   "language": "python",
   "name": "python3"
  },
  "language_info": {
   "codemirror_mode": {
    "name": "ipython",
    "version": 3
   },
   "file_extension": ".py",
   "mimetype": "text/x-python",
   "name": "python",
   "nbconvert_exporter": "python",
   "pygments_lexer": "ipython3",
   "version": "3.11.6"
  }
 },
 "nbformat": 4,
 "nbformat_minor": 5
}
