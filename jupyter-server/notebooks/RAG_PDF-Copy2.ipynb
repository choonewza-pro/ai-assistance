{
 "cells": [
  {
   "cell_type": "code",
   "execution_count": 19,
   "id": "531b4263-17ed-4c30-ab8e-acab1f5e93ef",
   "metadata": {},
   "outputs": [],
   "source": [
    "# !pip install requests\n",
    "# !pip install beautifulsoup4\n",
    "# !pip install langchain-community\n",
    "# !pip install langchain-text-splitters\n",
    "# !pip install langchain-chroma\n",
    "# !pip install -U langchain-ollama\n",
    "# !pip install -U pypdf"
   ]
  },
  {
   "cell_type": "code",
   "execution_count": 59,
   "id": "c61705e3-7b9e-410f-bf4b-d7c27f3008c4",
   "metadata": {},
   "outputs": [],
   "source": [
    "from langchain_community.vectorstores import Chroma\n",
    "from langchain_community.document_loaders import PyPDFLoader\n",
    "from langchain.text_splitter import RecursiveCharacterTextSplitter\n",
    "from langchain.prompts import PromptTemplate\n",
    "from langchain.chains.combine_documents import create_stuff_documents_chain\n",
    "from langchain.chains import create_retrieval_chain\n",
    "from langchain_ollama import OllamaEmbeddings\n",
    "from langchain_ollama.llms import OllamaLLM\n",
    "import sys"
   ]
  },
  {
   "cell_type": "code",
   "execution_count": 60,
   "id": "edaaefdb-b400-4a69-8c74-711244489c25",
   "metadata": {},
   "outputs": [
    {
     "name": "stdout",
     "output_type": "stream",
     "text": [
      "http://ollama:11434\n"
     ]
    }
   ],
   "source": [
    "import os\n",
    "\n",
    "# ตั้งค่าให้ Ollama ใช้เซิร์ฟเวอร์ที่รันอยู่บนเครื่องอื่น\n",
    "os.environ[\"OLLAMA_BASE_URL\"] = \"http://ollama:11434\"\n",
    "\n",
    "# ตรวจสอบว่าตัวแปรถูกตั้งค่าแล้วหรือไม่\n",
    "print(os.getenv(\"OLLAMA_BASE_URL\"))  # ควรแสดง http://server-ip:11434"
   ]
  },
  {
   "cell_type": "code",
   "execution_count": 61,
   "id": "b0d42ee3-352c-4f95-839b-42ff78eba240",
   "metadata": {},
   "outputs": [],
   "source": [
    "OLLAMA_BASE_URL = \"http://ollama:11434\"\n",
    "OLLAMA_EMBEDDING_MODEL = \"bge-m3\"\n",
    "OLLAMA_LLM_MODEL = \"deepseek-r1:1.5b\""
   ]
  },
  {
   "cell_type": "code",
   "execution_count": 62,
   "id": "fbfdb1e3-a1f8-43fd-8ee1-d8509c912f4b",
   "metadata": {},
   "outputs": [],
   "source": [
    "import chromadb\n",
    "chromadb.api.client.SharedSystemClient.clear_system_cache()"
   ]
  },
  {
   "cell_type": "code",
   "execution_count": null,
   "id": "fa2b9773-f136-4ab8-9e21-805802501c31",
   "metadata": {},
   "outputs": [],
   "source": [
    "# import os\n",
    "import shutil\n",
    "import time\n",
    "\n",
    "def ingest(file_path: str):\n",
    "    # Get the doc\n",
    "    loader = PyPDFLoader(file_path)\n",
    "    pages = loader.load_and_split()\n",
    "    \n",
    "    # Split the pages by char\n",
    "    text_splitter = RecursiveCharacterTextSplitter(\n",
    "        chunk_size=512,\n",
    "        chunk_overlap=51,\n",
    "        length_function=len,\n",
    "        strip_whitespace=True,\n",
    "    )\n",
    "    chunks = text_splitter.split_documents(pages)\n",
    "    print(f\"Split {len(pages)} documents into {len(chunks)} chunks.\")\n",
    "\n",
    "    \n",
    "    \n",
    "    embedding = OllamaEmbeddings(\n",
    "        model=OLLAMA_EMBEDDING_MODEL,\n",
    "        base_url=OLLAMA_BASE_URL\n",
    "    )\n",
    "\n",
    "    # สร้างไดเรกทอรีสำหรับบันทึก embeddings\n",
    "    embeddings_dir = \"./embeddings\"\n",
    "    os.makedirs(embeddings_dir, exist_ok=True)\n",
    "    \n",
    "    # สร้าง vectorstore และบันทึก embeddings ลงในไฟล์\n",
    "    Chroma.from_documents(documents=chunks,  embedding=embedding, persist_directory=embeddings_dir)\n",
    "\n",
    "    print(\"--- Read File Success ---\")\n"
   ]
  },
  {
   "cell_type": "code",
   "execution_count": 64,
   "id": "bc515b31-1ea9-4202-99e0-837cb0955a66",
   "metadata": {},
   "outputs": [
    {
     "name": "stdout",
     "output_type": "stream",
     "text": [
      "Split 66 documents into 268 chunks.\n",
      "--- Read File Success ---\n"
     ]
    }
   ],
   "source": [
    "ingest(\"doc1.pdf\")"
   ]
  },
  {
   "cell_type": "code",
   "execution_count": 56,
   "id": "3a2ac5d9-1eed-47f8-a7bd-15cc21801724",
   "metadata": {},
   "outputs": [],
   "source": [
    "def rag_chain():\n",
    "       \n",
    "    #Load vector store\n",
    "    embeddings_dir = \"./embeddings\"\n",
    "    embedding = OllamaEmbeddings(\n",
    "        model=OLLAMA_EMBEDDING_MODEL,\n",
    "        base_url=OLLAMA_BASE_URL\n",
    "    )\n",
    "    vector_store = Chroma(persist_directory=embeddings_dir, embedding_function=embedding)\n",
    "    print(\"---- Vector Store Loaded ----\")\n",
    "\n",
    "    #Create chain\n",
    "    retriever = vector_store.as_retriever(\n",
    "        search_type=\"similarity\",\n",
    "        search_kwargs={\n",
    "            \"k\": 3,\n",
    "        },\n",
    "    )\n",
    "    prompt = PromptTemplate.from_template(\n",
    "        \"\"\"\n",
    "        <s> [Instructions] You are a friendly assistant. Answer the question based only on the following context. \n",
    "        If you don't know the answer, then reply, No Context availabel for this question. Your response must be in English only.[/Instructions] </s> \n",
    "        [Instructions] Question: {input}\n",
    "        Context: {context} \n",
    "        Answer: Your response must be in English only[/Instructions]\n",
    "        \"\"\"\n",
    "    )\n",
    "\n",
    "    \n",
    "    print(\"---- Gen AI Answer... ----\")\n",
    "     model = OllamaLLM(\n",
    "        model=OLLAMA_LLM_MODEL,\n",
    "        base_url=OLLAMA_BASE_URL\n",
    "    )\n",
    "    document_chain = create_stuff_documents_chain(model, prompt)\n",
    "    chain = create_retrieval_chain(retriever, document_chain)\n",
    "    \n",
    "    return chain"
   ]
  },
  {
   "cell_type": "code",
   "execution_count": 57,
   "id": "f0e42561-7e22-476d-b548-bf6d9383293f",
   "metadata": {},
   "outputs": [],
   "source": [
    "def ask(question: str):\n",
    "    # Initialize chain and prompt\n",
    "    chain = rag_chain()\n",
    "    \n",
    "    # Invoke chain with the query\n",
    "    result = chain.invoke({\"input\": question})\n",
    "\n",
    "    input = result[\"input\"]\n",
    "    context = \" \".join([doc[\"page_content\"] for doc in result[\"context\"]])\n",
    "    prompt = f\"\"\"\n",
    "        <s> [Instructions] You are a friendly assistant. Answer the question based only on the following context. \n",
    "        If you don't know the answer, then reply, No Context availabel for this question. Your response must be in English only.[/Instructions] </s> \n",
    "        [Instructions] Question: {input}\n",
    "        Context: {context} \n",
    "        Answer: Your response must be in English only[/Instructions]\n",
    "        \"\"\"\n",
    "    print(\"---- PROMPT ----\")\n",
    "    print(prompt)\n",
    "    print(\"---- ------ ----\")\n",
    "    print(\"---- ------ ----\")\n",
    "    print(\"---- ------ ----\")\n",
    "\n",
    "    # Print the result\n",
    "    print(\"---- ANSWER ----\")\n",
    "    print(result[\"answer\"])\n",
    "    print(\"---- ------ ----\")\n",
    "    print(\"---- ------ ----\")\n",
    "    print(\"---- ------ ----\")\n",
    "    \n",
    "    # # Show the source documents\n",
    "    # for doc in result[\"context\"]:\n",
    "    #     print(\"Source: \", doc.metadata[\"source\"])\n",
    "    #     print(\"PageContent: \", doc.page_content)"
   ]
  },
  {
   "cell_type": "code",
   "execution_count": 58,
   "id": "6b29e421-30eb-4742-81bf-c266dd1165ed",
   "metadata": {},
   "outputs": [
    {
     "name": "stdout",
     "output_type": "stream",
     "text": [
      "---- Vector Store Loaded ----\n",
      "---- ANSWER ----\n",
      "<think>\n",
      "Alright, I need to figure out what this research project is about. The user mentioned a project titled \"การพัฒนาหัวเชื้อย่อยส_COLUMNสลายฟางข้าวจากแบคทีเรียที่ผลิตเซลลูเลส\". Let me break it down.\n",
      "\n",
      "First, the title translates to \"Development of Heads and Legs of Water Columns in Failing Fields from Groundwater Sources\". So, the project is about modifying or developing structures called water columns in areas where water can't make it to the surface. These are typically deep underground or under water, hence the term 'falying fields'.\n",
      "\n",
      "The user provided some context: a project led by Sursuthai with specific names like Rakunrasri and others. The goal seems to be creating water columns that can serve as substitutes for traditional water sources. This would make use of groundwater, which is often difficult to access or extract in hilly or mountainous regions.\n",
      "\n",
      "I should consider the potential applications. These water columns could be used in agriculture, providing water during heavy rain without needing surface water supplies. They might also reduce dependency on rivers and other water sources for irrigation, which can have environmental and economic benefits.\n",
      "\n",
      "Additionally, the research likely explores the technical aspects of creating these structures. This includes understanding the properties of groundwater, designing efficient channels to direct water flow, and ensuring structural integrity so they don't collapse or become unsafe.\n",
      "\n",
      "I should also think about potential challenges. The terrain might be uneven, which could affect water flow efficiency. Groundwater has its own dynamics and perhaps movement that needs careful management to maintain the water columns effectively.\n",
      "\n",
      "Overall, the project is focused on enhancing water supply in regions where conventional sources are not available by modifying or developing water columns.\n",
      "</think>\n",
      "\n",
      "The research focuses on the development of water columns in hilly or under water areas to provide alternative water sources, utilizing groundwater. The goal is to create structures that can serve as substitutes for traditional water supplies during dry seasons, reducing dependency on rivers and other water sources.\n",
      "{'input': 'งานวิจัยนี้ต้องการพัฒนาอะไรเพื่อช่วยย่อยฟางข้าว?', 'context': [Document(metadata={'author': 'RERU', 'creationdate': '2024-09-05T15:55:03+07:00', 'creator': 'Microsoft® Word 2021', 'moddate': '2025-02-26T06:22:20+00:00', 'page': 2, 'page_label': '3', 'producer': 'pdf-lib (https://github.com/Hopding/pdf-lib)', 'source': 'doc1.pdf', 'total_pages': 66}, page_content='i \\n \\nชื่อโครงการ (ภาษาไทย) : การพัฒนาหัวเชื้อย่อยสลายฟางข้าวจากแบคทีเรียที่ผลิตเซลลูเลส \\nหัวหน้าโครงการ   สุรชัย รัตนสุข  \\nผู้ร่วมโครงการวิจัย   รุจิเรข บุญกาพิมพ์ \\nคณะ    ศิลปศาสตร์และวิทยาศาสตร์ \\nประจำปี   2567 \\n \\nบทคัดย่อ \\n \\n ฟางข้าวเป็นวัสดุเซลลูโลสเหลือใช้ทางการเกษตรที่สามารถใช้เป็นสารตั้งต้นในการผลิตน้ำตาลจาก\\nการย่อยสลายของเซลลูเลสได้ เซลลูเลสเป็นเอนไซม์ที่มีความสำคัญในการย่อยสลายเซลลูโลสให้ได้น้ำตาล\\nกลูโคส การศึกษาครั้งนี้มีวัตถุประสงค์เพื่อคัดแยกแบคทีเรียที่ผลิตเซลลูเลสจากดิ น และศึกษากิจกรรมของ'), Document(metadata={'author': 'RERU', 'creationdate': '2024-09-05T15:55:03+07:00', 'creator': 'Microsoft® Word 2021', 'moddate': '2025-02-26T06:22:20+00:00', 'page': 2, 'page_label': '3', 'producer': 'pdf-lib (https://github.com/Hopding/pdf-lib)', 'source': 'doc1.pdf', 'total_pages': 66}, page_content='i \\n \\nชื่อโครงการ (ภาษาไทย) : การพัฒนาหัวเชื้อย่อยสลายฟางข้าวจากแบคทีเรียที่ผลิตเซลลูเลส \\nหัวหน้าโครงการ   สุรชัย รัตนสุข  \\nผู้ร่วมโครงการวิจัย   รุจิเรข บุญกาพิมพ์ \\nคณะ    ศิลปศาสตร์และวิทยาศาสตร์ \\nประจำปี   2567 \\n \\nบทคัดย่อ \\n \\n ฟางข้าวเป็นวัสดุเซลลูโลสเหลือใช้ทางการเกษตรที่สามารถใช้เป็นสารตั้งต้นในการผลิตน้ำตาลจาก\\nการย่อยสลายของเซลลูเลสได้ เซลลูเลสเป็นเอนไซม์ที่มีความสำคัญในการย่อยสลายเซลลูโลสให้ได้น้ำตาล\\nกลูโคส การศึกษาครั้งนี้มีวัตถุประสงค์เพื่อคัดแยกแบคทีเรียที่ผลิตเซลลูเลสจากดิ น และศึกษากิจกรรมของ'), Document(metadata={'author': 'RERU', 'creationdate': '2024-09-05T15:55:03+07:00', 'creator': 'Microsoft® Word 2021', 'moddate': '2025-02-26T06:22:20+00:00', 'page': 2, 'page_label': '3', 'producer': 'pdf-lib (https://github.com/Hopding/pdf-lib)', 'source': 'doc1.pdf', 'total_pages': 66}, page_content='i \\n \\nชื่อโครงการ (ภาษาไทย) : การพัฒนาหัวเชื้อย่อยสลายฟางข้าวจากแบคทีเรียที่ผลิตเซลลูเลส \\nหัวหน้าโครงการ   สุรชัย รัตนสุข  \\nผู้ร่วมโครงการวิจัย   รุจิเรข บุญกาพิมพ์ \\nคณะ    ศิลปศาสตร์และวิทยาศาสตร์ \\nประจำปี   2567 \\n \\nบทคัดย่อ \\n \\n ฟางข้าวเป็นวัสดุเซลลูโลสเหลือใช้ทางการเกษตรที่สามารถใช้เป็นสารตั้งต้นในการผลิตน้ำตาลจาก\\nการย่อยสลายของเซลลูเลสได้ เซลลูเลสเป็นเอนไซม์ที่มีความสำคัญในการย่อยสลายเซลลูโลสให้ได้น้ำตาล\\nกลูโคส การศึกษาครั้งนี้มีวัตถุประสงค์เพื่อคัดแยกแบคทีเรียที่ผลิตเซลลูเลสจากดิ น และศึกษากิจกรรมของ')], 'answer': '<think>\\nAlright, I need to figure out what this research project is about. The user mentioned a project titled \"การพัฒนาหัวเชื้อย่อยส_COLUMNสลายฟางข้าวจากแบคทีเรียที่ผลิตเซลลูเลส\". Let me break it down.\\n\\nFirst, the title translates to \"Development of Heads and Legs of Water Columns in Failing Fields from Groundwater Sources\". So, the project is about modifying or developing structures called water columns in areas where water can\\'t make it to the surface. These are typically deep underground or under water, hence the term \\'falying fields\\'.\\n\\nThe user provided some context: a project led by Sursuthai with specific names like Rakunrasri and others. The goal seems to be creating water columns that can serve as substitutes for traditional water sources. This would make use of groundwater, which is often difficult to access or extract in hilly or mountainous regions.\\n\\nI should consider the potential applications. These water columns could be used in agriculture, providing water during heavy rain without needing surface water supplies. They might also reduce dependency on rivers and other water sources for irrigation, which can have environmental and economic benefits.\\n\\nAdditionally, the research likely explores the technical aspects of creating these structures. This includes understanding the properties of groundwater, designing efficient channels to direct water flow, and ensuring structural integrity so they don\\'t collapse or become unsafe.\\n\\nI should also think about potential challenges. The terrain might be uneven, which could affect water flow efficiency. Groundwater has its own dynamics and perhaps movement that needs careful management to maintain the water columns effectively.\\n\\nOverall, the project is focused on enhancing water supply in regions where conventional sources are not available by modifying or developing water columns.\\n</think>\\n\\nThe research focuses on the development of water columns in hilly or under water areas to provide alternative water sources, utilizing groundwater. The goal is to create structures that can serve as substitutes for traditional water supplies during dry seasons, reducing dependency on rivers and other water sources.'}\n"
     ]
    }
   ],
   "source": [
    "ask(\"งานวิจัยนี้ต้องการพัฒนาอะไรเพื่อช่วยย่อยฟางข้าว?\")"
   ]
  },
  {
   "cell_type": "code",
   "execution_count": null,
   "id": "3a35c214-d6a8-41c4-824e-8fb079f1ff53",
   "metadata": {},
   "outputs": [],
   "source": []
  }
 ],
 "metadata": {
  "kernelspec": {
   "display_name": "Python 3 (ipykernel)",
   "language": "python",
   "name": "python3"
  },
  "language_info": {
   "codemirror_mode": {
    "name": "ipython",
    "version": 3
   },
   "file_extension": ".py",
   "mimetype": "text/x-python",
   "name": "python",
   "nbconvert_exporter": "python",
   "pygments_lexer": "ipython3",
   "version": "3.11.6"
  }
 },
 "nbformat": 4,
 "nbformat_minor": 5
}
