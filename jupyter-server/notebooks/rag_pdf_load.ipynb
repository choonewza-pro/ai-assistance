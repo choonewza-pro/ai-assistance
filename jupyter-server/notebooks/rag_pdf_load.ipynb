{
 "cells": [
  {
   "cell_type": "code",
   "execution_count": null,
   "id": "eb6a20a8-81a8-4174-9403-7167e0b7d67a",
   "metadata": {},
   "outputs": [],
   "source": [
    "# !pip install pypdf\n",
    "# !pip install -U transformers langchain langchain_huggingface langchain_community sentence-transformers langchain_huggingface langchain_core chromadb "
   ]
  },
  {
   "cell_type": "code",
   "execution_count": 4,
   "id": "84ba5f07-4a91-4ca0-82ef-5586f6ffadf8",
   "metadata": {},
   "outputs": [],
   "source": [
    "# !pip install ipywidgets\n",
    "# !pip install langchain_huggingface"
   ]
  },
  {
   "cell_type": "code",
   "execution_count": 5,
   "id": "553cea84-b840-4916-905b-aed69a922bd3",
   "metadata": {},
   "outputs": [],
   "source": [
    "import os\n",
    "from langchain.document_loaders import PyPDFLoader\n",
    "from langchain.text_splitter import RecursiveCharacterTextSplitter\n",
    "from langchain.embeddings import OpenAIEmbeddings\n",
    "from langchain.vectorstores import Chroma"
   ]
  },
  {
   "cell_type": "code",
   "execution_count": 6,
   "id": "e510d3f5-5f60-4395-8a3d-add0da9cf57b",
   "metadata": {},
   "outputs": [
    {
     "name": "stdout",
     "output_type": "stream",
     "text": [
      "/home/jovyan/work/pdf_files\n"
     ]
    }
   ],
   "source": [
    "pdf_directory = os.getcwd() + \"/pdf_files\"\n",
    "print(pdf_directory)"
   ]
  },
  {
   "cell_type": "code",
   "execution_count": 7,
   "id": "a0876177-4a79-4486-9edd-90b893edd3f9",
   "metadata": {},
   "outputs": [],
   "source": [
    "def load_pdf_files(directory):\n",
    "    documents = []\n",
    "    # Loop ผ่านไฟล์ทั้งหมดใน directory\n",
    "    for filename in os.listdir(directory):\n",
    "        if filename.endswith('.pdf'):\n",
    "            file_path = os.path.join(directory, filename)\n",
    "            try:\n",
    "                # โหลด PDF โดยใช้ PyPDFLoader\n",
    "                loader = PyPDFLoader(file_path)\n",
    "                docs = loader.load()\n",
    "                documents.extend(docs)\n",
    "                print(f\"Loaded: {filename}\")\n",
    "            except Exception as e:\n",
    "                print(f\"Error loading {filename}: {str(e)}\")\n",
    "    return documents"
   ]
  },
  {
   "cell_type": "code",
   "execution_count": 8,
   "id": "76a8ef65-0887-4034-b13b-bc049c3f5355",
   "metadata": {},
   "outputs": [
    {
     "name": "stdout",
     "output_type": "stream",
     "text": [
      "Loaded: C-Outline_Faciltate-Virtual-Team.pdf\n",
      "Loaded: KPI-5.1.2.3-320781.pdf\n",
      "Loaded: หลักสูตร_1415863499.pdf\n",
      "Loaded: Course Outline e-Learning (หลักสูตร).pdf\n",
      "Loaded: SW201 ภาค  2-2563 (All_Gr.).pdf\n",
      "Loaded: Training outline_500026_0.pdf\n",
      "Loaded: C16-สร้างทีมงานDISC-Model.pdf\n"
     ]
    }
   ],
   "source": [
    "# 3. โหลดเอกสารทั้งหมด\n",
    "all_documents = load_pdf_files(pdf_directory)"
   ]
  },
  {
   "cell_type": "code",
   "execution_count": 9,
   "id": "7517a4ce-3ae2-4054-b83f-ea81e6d89e13",
   "metadata": {},
   "outputs": [
    {
     "name": "stdout",
     "output_type": "stream",
     "text": [
      "Total chunks created: 154\n"
     ]
    }
   ],
   "source": [
    "# 4. แบ่งเอกสารเป็นส่วนย่อยๆ (chunking)\n",
    "text_splitter = RecursiveCharacterTextSplitter(\n",
    "    chunk_size=512,  # ขนาดของแต่ละ chunk\n",
    "    chunk_overlap=54,  # การ overlap ระหว่าง chunk\n",
    "    length_function=len,\n",
    "    strip_whitespace=True,\n",
    ")\n",
    "split_docs = text_splitter.split_documents(all_documents)\n",
    "print(f\"Total chunks created: {len(split_docs)}\")"
   ]
  },
  {
   "cell_type": "code",
   "execution_count": 13,
   "id": "b102e3d7-1d09-4a69-b401-b8954aa2de20",
   "metadata": {},
   "outputs": [],
   "source": [
    "import os\n",
    "from typing import List\n",
    "from langchain_huggingface import HuggingFaceEmbeddings\n",
    "from langchain_chroma import Chroma\n",
    "from langchain_core.documents import Document  # นำเข้า Document\n",
    "\n",
    "def ingest(chunks: List[Document], embeddings_dir:str):\n",
    "    \"\"\"\n",
    "    ฟังก์ชันที่รับรายการของ Document (chunks) และนำไปสร้าง Vector database\n",
    "    \"\"\"\n",
    "\n",
    "    model_name = \"BAAI/bge-m3\"\n",
    "    model_kwargs = {'device': 'cpu'}\n",
    "    encode_kwargs = {'normalize_embeddings': False}\n",
    "    \n",
    "    embedding = HuggingFaceEmbeddings(\n",
    "        model_name=model_name,\n",
    "        model_kwargs=model_kwargs,\n",
    "        encode_kwargs=encode_kwargs\n",
    "    )\n",
    "    \n",
    "   # ตรวจสอบว่ามี vector store อยู่แล้วหรือไม่\n",
    "    if os.path.exists(os.path.join(embeddings_dir, \"chroma.sqlite3\")):\n",
    "        print(\"--append data to vector store--\")\n",
    "        # โหลด vector store ที่มีอยู่\n",
    "        vector_store = Chroma(persist_directory=embeddings_dir, embedding_function=embedding)\n",
    "        # ลบ documents ทั้งหมดก่อน\n",
    "        vector_store.delete_collection()\n",
    "        # สร้าง collection ใหม่โดยอัตโนมัติเมื่อเพิ่ม documents\n",
    "        vector_store.add_documents(documents=chunks)\n",
    "    else:\n",
    "        print(\"--new vector store--\")\n",
    "        # สร้างไดเรกทอรีสำหรับบันทึก embeddings\n",
    "        os.makedirs(embeddings_dir, exist_ok=True)\n",
    "        # สร้าง vector store ใหม่และบันทึก embeddings ลงในไฟล์\n",
    "        Chroma.from_documents(documents=chunks, embedding=embedding, persist_directory=embeddings_dir)\n",
    "\n",
    "    print(\"--- Ingest to Vector Database Success ---\")\n"
   ]
  },
  {
   "cell_type": "code",
   "execution_count": 12,
   "id": "0bb7f781-b3f9-46d2-8943-245e97286782",
   "metadata": {},
   "outputs": [
    {
     "data": {
      "application/vnd.jupyter.widget-view+json": {
       "model_id": "4bd516ac6916437098e08ea649eb3f40",
       "version_major": 2,
       "version_minor": 0
      },
      "text/plain": [
       "tokenizer.json:  61%|######1   | 10.5M/17.1M [00:00<?, ?B/s]"
      ]
     },
     "metadata": {},
     "output_type": "display_data"
    },
    {
     "data": {
      "application/vnd.jupyter.widget-view+json": {
       "model_id": "e71d8bd2cf4e4f1781623fd7c11733af",
       "version_major": 2,
       "version_minor": 0
      },
      "text/plain": [
       "special_tokens_map.json:   0%|          | 0.00/964 [00:00<?, ?B/s]"
      ]
     },
     "metadata": {},
     "output_type": "display_data"
    },
    {
     "data": {
      "application/vnd.jupyter.widget-view+json": {
       "model_id": "e3dcfdcc3f154201b58a01f1b3a67390",
       "version_major": 2,
       "version_minor": 0
      },
      "text/plain": [
       "model.safetensors:   3%|2         | 62.9M/2.27G [00:00<?, ?B/s]"
      ]
     },
     "metadata": {},
     "output_type": "display_data"
    },
    {
     "data": {
      "application/vnd.jupyter.widget-view+json": {
       "model_id": "0d1a62c2a92844a8852fbba0936877e9",
       "version_major": 2,
       "version_minor": 0
      },
      "text/plain": [
       "1_Pooling%2Fconfig.json:   0%|          | 0.00/191 [00:00<?, ?B/s]"
      ]
     },
     "metadata": {},
     "output_type": "display_data"
    },
    {
     "name": "stdout",
     "output_type": "stream",
     "text": [
      "--new vector store--\n",
      "--- Ingest to Vector Database Success ---\n"
     ]
    }
   ],
   "source": [
    "ingest(chunks=split_docs, embeddings_dir=\"chroma-pdfs\")"
   ]
  },
  {
   "cell_type": "code",
   "execution_count": 18,
   "id": "09619105-c679-4293-8da7-32899d1c208a",
   "metadata": {},
   "outputs": [
    {
     "name": "stdout",
     "output_type": "stream",
     "text": [
      "-- Vector Store Loaded --\n"
     ]
    }
   ],
   "source": [
    "embeddings_dir=\"chroma-pdfs\"\n",
    "\n",
    "model_name = \"BAAI/bge-m3\"\n",
    "model_kwargs = {'device': 'cpu'}\n",
    "encode_kwargs = {'normalize_embeddings': False}\n",
    "\n",
    "embedding = HuggingFaceEmbeddings(\n",
    "    model_name=model_name,\n",
    "    model_kwargs=model_kwargs,\n",
    "    encode_kwargs=encode_kwargs\n",
    ")\n",
    "vector_store = Chroma(persist_directory=embeddings_dir, embedding_function=embedding)\n",
    "print(\"-- Vector Store Loaded --\")"
   ]
  },
  {
   "cell_type": "code",
   "execution_count": 19,
   "id": "bbde8fdb-2ccd-4bf6-9f72-793e01379c84",
   "metadata": {},
   "outputs": [
    {
     "name": "stdout",
     "output_type": "stream",
     "text": [
      "--retriever--\n"
     ]
    }
   ],
   "source": [
    "retriever = vector_store.as_retriever(search_type=\"similarity\", search_kwargs={\"k\": 3})\n",
    "print(\"--retriever--\")"
   ]
  },
  {
   "cell_type": "code",
   "execution_count": 21,
   "id": "2a7046e3-30ad-4e07-acac-e21762949137",
   "metadata": {},
   "outputs": [],
   "source": [
    "def genPrompt( question: str, retriever: BaseRetriever):\n",
    "        \"\"\"\n",
    "        Generate a prompt based on the retrieved documents for the given question.\n",
    "        \"\"\"\n",
    "        retrieved_docs = retriever.invoke(question)\n",
    "        context = ' '.join([doc.page_content for doc in retrieved_docs])\n",
    "        prompt = f\"\"\"\n",
    "            [Instructions] \n",
    "                Question: {question}\n",
    "                Context: {context} \n",
    "                Answer:\n",
    "            [/Instructions]\n",
    "            \"\"\"\n",
    "        return prompt"
   ]
  },
  {
   "cell_type": "code",
   "execution_count": 25,
   "id": "0b71a7d3-64c5-45ef-9309-a380b381ae86",
   "metadata": {},
   "outputs": [
    {
     "name": "stdout",
     "output_type": "stream",
     "text": [
      "\n",
      "            [Instructions] \n",
      "                Question: หลักสูตรผู้บริหาร\n",
      "                Context: 1 \n",
      " \n",
      "หลักสูตร \n",
      "การจัดการ \n",
      "เรียนรู้ \n",
      " การวัดและ \n",
      " ประเมินผล \n",
      " \n",
      "การ \n",
      "สะท้อนผล \n",
      "หลักสูตร  (Curriculum) \n",
      " \n",
      "รองศาสตราจารย์ ดร.วิชัย วงษ์ใหญ่* \n",
      " \n",
      " \n",
      "ความหมายของหลักสูตร \n",
      " หลักสูตร (Curriculum) เป็นค าที่มีรากศัพท์มาจากค าในภาษาลาตินว่า “race – course” \n",
      "ซึ่งหมายถึง เส้นทางที่ใช้วิ่งแข่งขัน  เนื่องมาจากเป้าหมายของหลักสูตรที่มุ่งหวังให้ผู้เรียนสามา รถ\n",
      "เจริญเติบโตเป็นผู้ใหญ่ ที่มีคุณภาพและประสบความส าเร็จในการด ารงชีวิตอยู่ในสังคมแห่งอนาคต ซึ่งจะเป็นข้อมูลสารสนเทศส าหรับการปรับปรุงหลักสูตรต่อไปดังแผนภาพ  1 \n",
      " \n",
      " \n",
      " \n",
      " \n",
      " \n",
      " \n",
      " \n",
      "แผนภาพ  1   ความส าคัญของหลักสูตรที่ส่งผลต่อการจัดการเรียนรู้  การวัดและประเมินผล \n",
      "     และการสะท้อนผลเพื่อปรับปรุงหลักสูตร \n",
      "* สาขาการวิจัยและพัฒนาหลักสูตร บัณฑิตวิทยาลัย มหาวิทยาลัยศรีนครินทรวิโรฒ ระบบ \n",
      "การพัฒนาหลักสูตร \n",
      "ระบบ \n",
      "การปรับปรุงหลักสูตร  \n",
      "ระบบ \n",
      "การประเมินหลักสูตร \n",
      " \n",
      "ระบบ \n",
      "การใช้หลักสูตร \n",
      " \n",
      " \n",
      " \n",
      " \n",
      " \n",
      " \n",
      " \n",
      "แผนภาพ  2 ความสัมพันธ์ระหว่างระบบการพัฒนาหลักสูตร  ระบบการใช้หลักสูตร   \n",
      "  และระบบการประเมินหลักสูตรตามแนวคิดการพัฒนาหลักสูตรแบบครบวงจร \n",
      " \n",
      "ขั้นตอนการพัฒนาหลักสูตร \n",
      " ทาบา  (Hilda  Taba. 1962) ได้ก าหนดขั้นตอนการพัฒนาหลักสูตรไว้  8  ขั้นตอนดังนี้ \n",
      " 1. การวินิจฉัยความต้องการจ าเป็นของการพัฒนาหลักสูตร  (Diagnosing  Needs) \n",
      " 2. การก าหนดวัตถุประสงค์ของหลักสูตร  (Formulating  Specifics  Objectives) \n",
      "                Answer:\n",
      "            [/Instructions]\n",
      "            \n"
     ]
    }
   ],
   "source": [
    "prompt = genPrompt(question=\"หลักสูตรผู้บริหาร\",retriever=retriever)\n",
    "print(prompt)"
   ]
  },
  {
   "cell_type": "code",
   "execution_count": null,
   "id": "0926365b-611c-4b7e-9c74-e6e342acccf9",
   "metadata": {},
   "outputs": [],
   "source": []
  }
 ],
 "metadata": {
  "kernelspec": {
   "display_name": "Python 3 (ipykernel)",
   "language": "python",
   "name": "python3"
  },
  "language_info": {
   "codemirror_mode": {
    "name": "ipython",
    "version": 3
   },
   "file_extension": ".py",
   "mimetype": "text/x-python",
   "name": "python",
   "nbconvert_exporter": "python",
   "pygments_lexer": "ipython3",
   "version": "3.11.6"
  }
 },
 "nbformat": 4,
 "nbformat_minor": 5
}
