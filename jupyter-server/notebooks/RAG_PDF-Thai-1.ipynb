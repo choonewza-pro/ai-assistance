{
 "cells": [
  {
   "cell_type": "code",
   "execution_count": 34,
   "id": "43e0a557-faa2-4b26-be7b-875e52547e33",
   "metadata": {},
   "outputs": [],
   "source": [
    "from langchain.document_loaders import PyPDFLoader\n",
    "from langchain.embeddings import OllamaEmbeddings\n",
    "from langchain.text_splitter import RecursiveCharacterTextSplitter\n",
    "from langchain.vectorstores import Chroma\n",
    "from pythainlp.tokenize import word_tokenize\n",
    "from pythainlp.util import normalize\n",
    "import os"
   ]
  },
  {
   "cell_type": "code",
   "execution_count": 35,
   "id": "064d8b1a-5da4-49f8-b9f3-1c55b9fe3451",
   "metadata": {},
   "outputs": [],
   "source": [
    "import os\n",
    "\n",
    "# ตั้งค่าให้ Ollama ใช้เซิร์ฟเวอร์ที่รันอยู่บนเครื่องอื่น\n",
    "os.environ[\"OLLAMA_BASE_URL\"] = \"http://ollama:11434\""
   ]
  },
  {
   "cell_type": "code",
   "execution_count": 36,
   "id": "6fd3e15b-8532-494c-abe8-b44ccbd148ab",
   "metadata": {},
   "outputs": [],
   "source": [
    "OLLAMA_BASE_URL = \"http://ollama:11434\"\n",
    "OLLAMA_LLM_MODEL = \"deepseek-r1:8b\"\n",
    "OLLAMA_EMBED_MODEL = \"nomic-embed-text\""
   ]
  },
  {
   "cell_type": "code",
   "execution_count": 37,
   "id": "690857ea-1579-4edf-9e4e-ab9c43d37b61",
   "metadata": {},
   "outputs": [],
   "source": [
    "def read_thai_pdfs(pdf_directory):\n",
    "    \"\"\"\n",
    "    อ่านไฟล์ PDF ภาษาไทยทั้งหมดจากโฟลเดอร์ที่กำหนด\n",
    "    \"\"\"\n",
    "    documents = []\n",
    "    \n",
    "    # วนลูปอ่านทุกไฟล์ PDF ในโฟลเดอร์\n",
    "    for filename in os.listdir(pdf_directory):\n",
    "        if filename.endswith('.pdf'):\n",
    "            pdf_path = os.path.join(pdf_directory, filename)\n",
    "            \n",
    "            # ใช้ PyPDFLoader สำหรับอ่านไฟล์ PDF\n",
    "            loader = PyPDFLoader(pdf_path)\n",
    "            pdf_documents = loader.load()\n",
    "            \n",
    "            # เพิ่ม metadata เกี่ยวกับที่มาของเอกสาร\n",
    "            for doc in pdf_documents:\n",
    "                doc.metadata['source_file'] = filename\n",
    "            \n",
    "            documents.extend(pdf_documents)\n",
    "    \n",
    "    return documents"
   ]
  },
  {
   "cell_type": "code",
   "execution_count": 38,
   "id": "d9d9a127-5b37-4790-a483-34059d4c5365",
   "metadata": {},
   "outputs": [],
   "source": [
    "def preprocess_thai_text(text):\n",
    "    \"\"\"\n",
    "    Preprocess Thai text using pythainlp\n",
    "    \"\"\"\n",
    "    # Normalize text (standardize characters, remove duplicate spaces)\n",
    "    normalized_text = normalize(text)\n",
    "    \n",
    "    # Word tokenization\n",
    "    tokens = word_tokenize(normalized_text, engine=\"newmm\")\n",
    "    \n",
    "    # Join tokens back with spaces for better chunk splitting\n",
    "    processed_text = \" \".join(tokens)\n",
    "    \n",
    "    return processed_text"
   ]
  },
  {
   "cell_type": "code",
   "execution_count": 39,
   "id": "07401f0f-ef0d-4613-beb3-09fff2d173e5",
   "metadata": {},
   "outputs": [],
   "source": [
    "def create_thai_embeddings(pdf_directory, chunk_size=500):\n",
    "    \"\"\"\n",
    "    สร้าง embeddings จากไฟล์ PDF ภาษาไทย\n",
    "    \"\"\"\n",
    "    # อ่านไฟล์ PDF ทั้งหมด\n",
    "    documents = []\n",
    "    for filename in os.listdir(pdf_directory):\n",
    "        if filename.endswith('.pdf'):\n",
    "            pdf_path = os.path.join(pdf_directory, filename)\n",
    "            loader = PyPDFLoader(pdf_path)\n",
    "            pdf_documents = loader.load()\n",
    "            for doc in pdf_documents:\n",
    "                doc.metadata['source_file'] = filename\n",
    "            documents.extend(pdf_documents)\n",
    "\n",
    "    # แบ่ง chunks\n",
    "    text_splitter = RecursiveCharacterTextSplitter(\n",
    "        chunk_size=chunk_size,\n",
    "        chunk_overlap=50,\n",
    "        length_function=len,\n",
    "        separators=[\"\\n\\n\", \"\\n\", \" \", \"\"]\n",
    "    )\n",
    "    \n",
    "    texts = text_splitter.split_documents(documents)\n",
    "    \n",
    "    # สร้าง embeddings\n",
    "    embedding_function = OllamaEmbeddings(\n",
    "        model=OLLAMA_EMBED_MODEL,\n",
    "        base_url=OLLAMA_BASE_URL,\n",
    "    )\n",
    "    \n",
    "    # เก็บใน Chroma - ใช้ embedding_function แทน embeddings\n",
    "    vectorstore = Chroma.from_documents(\n",
    "        documents=texts,\n",
    "        embedding_function=embedding_function,  # แก้จาก embeddings เป็น embedding_function\n",
    "        collection_name=\"thai_pdf_docs\",\n",
    "        persist_directory=\"./chroma_db\",\n",
    "        collection_metadata={\n",
    "            \"language\": \"thai\",\n",
    "            \"chunk_size\": chunk_size\n",
    "        }\n",
    "    )\n",
    "    \n",
    "    return vectorstore\n"
   ]
  },
  {
   "cell_type": "code",
   "execution_count": 40,
   "id": "8402a672-e395-4d85-81ca-9689665d8954",
   "metadata": {},
   "outputs": [],
   "source": [
    "\n",
    "# def create_thai_embeddings(pdf_directory, chunk_size=500):\n",
    "#     \"\"\"\n",
    "#     สร้าง embeddings จากไฟล์ PDF ภาษาไทย\n",
    "#     \"\"\"\n",
    "#     # อ่านไฟล์ PDF ทั้งหมด\n",
    "#     raw_documents = read_thai_pdfs(pdf_directory)\n",
    "    \n",
    "#     # ประมวลผลข้อความแต่ละส่วน\n",
    "#     for doc in raw_documents:\n",
    "#         doc.page_content = preprocess_thai_text(doc.page_content)\n",
    "    \n",
    "#     # แบ่ง chunks\n",
    "#     text_splitter = RecursiveCharacterTextSplitter(\n",
    "#         chunk_size=chunk_size,\n",
    "#         chunk_overlap=50,\n",
    "#         length_function=len,\n",
    "#         separators=[\"\\n\\n\", \"\\n\", \" \", \"\"]\n",
    "#     )\n",
    "    \n",
    "#     texts = text_splitter.split_documents(raw_documents)\n",
    "    \n",
    "#     # สร้าง embeddings\n",
    "#     local_embeddings = OllamaEmbeddings(\n",
    "#         model=OLLAMA_EMBED_MODEL,\n",
    "#         base_url=OLLAMA_BASE_URL,\n",
    "#     )\n",
    "\n",
    "#     print(local_embeddings)\n",
    "    \n",
    "#     # เก็บใน Chroma\n",
    "#     vectorstore = Chroma.from_documents(\n",
    "#         documents=texts,\n",
    "#         embeddings=local_embeddings,\n",
    "#         collection_name=\"thai_pdf_docs\",\n",
    "#         persist_directory=\"./chroma_db\",\n",
    "#         collection_metadata={\n",
    "#             \"language\": \"thai\",\n",
    "#             \"chunk_size\": chunk_size,\n",
    "#             # \"source\": \"pdf\"\n",
    "#         }\n",
    "#     )\n",
    "    \n",
    "#     return vectorstore"
   ]
  },
  {
   "cell_type": "code",
   "execution_count": 41,
   "id": "37414e28-d5f8-4f13-885e-40b835145ac9",
   "metadata": {},
   "outputs": [
    {
     "ename": "TypeError",
     "evalue": "langchain_community.vectorstores.chroma.Chroma() got multiple values for keyword argument 'embedding_function'",
     "output_type": "error",
     "traceback": [
      "\u001b[0;31m---------------------------------------------------------------------------\u001b[0m",
      "\u001b[0;31mTypeError\u001b[0m                                 Traceback (most recent call last)",
      "Cell \u001b[0;32mIn[41], line 3\u001b[0m\n\u001b[1;32m      1\u001b[0m \u001b[38;5;66;03m# ตัวอย่างการใช้งาน\u001b[39;00m\n\u001b[1;32m      2\u001b[0m pdf_directory \u001b[38;5;241m=\u001b[39m \u001b[38;5;124m\"\u001b[39m\u001b[38;5;124m./files\u001b[39m\u001b[38;5;124m\"\u001b[39m  \u001b[38;5;66;03m# โฟลเดอร์ที่เก็บไฟล์ PDF\u001b[39;00m\n\u001b[0;32m----> 3\u001b[0m vectorstore \u001b[38;5;241m=\u001b[39m \u001b[43mcreate_thai_embeddings\u001b[49m\u001b[43m(\u001b[49m\u001b[43mpdf_directory\u001b[49m\u001b[43m)\u001b[49m\n\u001b[1;32m      5\u001b[0m \u001b[38;5;66;03m# ตัวอย่างการค้นหา\u001b[39;00m\n\u001b[1;32m      6\u001b[0m \u001b[38;5;66;03m# query = \"คำค้นหาภาษาไทย\"\u001b[39;00m\n\u001b[1;32m      7\u001b[0m \u001b[38;5;66;03m# results = vectorstore.similarity_search(query)\u001b[39;00m\n\u001b[0;32m   (...)\u001b[0m\n\u001b[1;32m     10\u001b[0m \u001b[38;5;66;03m#     print(doc.page_content)\u001b[39;00m\n\u001b[1;32m     11\u001b[0m \u001b[38;5;66;03m#     print(\"-\" * 50)\u001b[39;00m\n",
      "Cell \u001b[0;32mIn[39], line 33\u001b[0m, in \u001b[0;36mcreate_thai_embeddings\u001b[0;34m(pdf_directory, chunk_size)\u001b[0m\n\u001b[1;32m     27\u001b[0m embedding_function \u001b[38;5;241m=\u001b[39m OllamaEmbeddings(\n\u001b[1;32m     28\u001b[0m     model\u001b[38;5;241m=\u001b[39mOLLAMA_EMBED_MODEL,\n\u001b[1;32m     29\u001b[0m     base_url\u001b[38;5;241m=\u001b[39mOLLAMA_BASE_URL,\n\u001b[1;32m     30\u001b[0m )\n\u001b[1;32m     32\u001b[0m \u001b[38;5;66;03m# เก็บใน Chroma - ใช้ embedding_function แทน embeddings\u001b[39;00m\n\u001b[0;32m---> 33\u001b[0m vectorstore \u001b[38;5;241m=\u001b[39m \u001b[43mChroma\u001b[49m\u001b[38;5;241;43m.\u001b[39;49m\u001b[43mfrom_documents\u001b[49m\u001b[43m(\u001b[49m\n\u001b[1;32m     34\u001b[0m \u001b[43m    \u001b[49m\u001b[43mdocuments\u001b[49m\u001b[38;5;241;43m=\u001b[39;49m\u001b[43mtexts\u001b[49m\u001b[43m,\u001b[49m\n\u001b[1;32m     35\u001b[0m \u001b[43m    \u001b[49m\u001b[43membedding_function\u001b[49m\u001b[38;5;241;43m=\u001b[39;49m\u001b[43membedding_function\u001b[49m\u001b[43m,\u001b[49m\u001b[43m  \u001b[49m\u001b[38;5;66;43;03m# แก้จาก embeddings เป็น embedding_function\u001b[39;49;00m\n\u001b[1;32m     36\u001b[0m \u001b[43m    \u001b[49m\u001b[43mcollection_name\u001b[49m\u001b[38;5;241;43m=\u001b[39;49m\u001b[38;5;124;43m\"\u001b[39;49m\u001b[38;5;124;43mthai_pdf_docs\u001b[39;49m\u001b[38;5;124;43m\"\u001b[39;49m\u001b[43m,\u001b[49m\n\u001b[1;32m     37\u001b[0m \u001b[43m    \u001b[49m\u001b[43mpersist_directory\u001b[49m\u001b[38;5;241;43m=\u001b[39;49m\u001b[38;5;124;43m\"\u001b[39;49m\u001b[38;5;124;43m./chroma_db\u001b[39;49m\u001b[38;5;124;43m\"\u001b[39;49m\u001b[43m,\u001b[49m\n\u001b[1;32m     38\u001b[0m \u001b[43m    \u001b[49m\u001b[43mcollection_metadata\u001b[49m\u001b[38;5;241;43m=\u001b[39;49m\u001b[43m{\u001b[49m\n\u001b[1;32m     39\u001b[0m \u001b[43m        \u001b[49m\u001b[38;5;124;43m\"\u001b[39;49m\u001b[38;5;124;43mlanguage\u001b[39;49m\u001b[38;5;124;43m\"\u001b[39;49m\u001b[43m:\u001b[49m\u001b[43m \u001b[49m\u001b[38;5;124;43m\"\u001b[39;49m\u001b[38;5;124;43mthai\u001b[39;49m\u001b[38;5;124;43m\"\u001b[39;49m\u001b[43m,\u001b[49m\n\u001b[1;32m     40\u001b[0m \u001b[43m        \u001b[49m\u001b[38;5;124;43m\"\u001b[39;49m\u001b[38;5;124;43mchunk_size\u001b[39;49m\u001b[38;5;124;43m\"\u001b[39;49m\u001b[43m:\u001b[49m\u001b[43m \u001b[49m\u001b[43mchunk_size\u001b[49m\n\u001b[1;32m     41\u001b[0m \u001b[43m    \u001b[49m\u001b[43m}\u001b[49m\n\u001b[1;32m     42\u001b[0m \u001b[43m\u001b[49m\u001b[43m)\u001b[49m\n\u001b[1;32m     44\u001b[0m \u001b[38;5;28;01mreturn\u001b[39;00m vectorstore\n",
      "File \u001b[0;32m/opt/conda/lib/python3.11/site-packages/langchain_community/vectorstores/chroma.py:887\u001b[0m, in \u001b[0;36mChroma.from_documents\u001b[0;34m(cls, documents, embedding, ids, collection_name, persist_directory, client_settings, client, collection_metadata, **kwargs)\u001b[0m\n\u001b[1;32m    885\u001b[0m texts \u001b[38;5;241m=\u001b[39m [doc\u001b[38;5;241m.\u001b[39mpage_content \u001b[38;5;28;01mfor\u001b[39;00m doc \u001b[38;5;129;01min\u001b[39;00m documents]\n\u001b[1;32m    886\u001b[0m metadatas \u001b[38;5;241m=\u001b[39m [doc\u001b[38;5;241m.\u001b[39mmetadata \u001b[38;5;28;01mfor\u001b[39;00m doc \u001b[38;5;129;01min\u001b[39;00m documents]\n\u001b[0;32m--> 887\u001b[0m \u001b[38;5;28;01mreturn\u001b[39;00m \u001b[38;5;28;43mcls\u001b[39;49m\u001b[38;5;241;43m.\u001b[39;49m\u001b[43mfrom_texts\u001b[49m\u001b[43m(\u001b[49m\n\u001b[1;32m    888\u001b[0m \u001b[43m    \u001b[49m\u001b[43mtexts\u001b[49m\u001b[38;5;241;43m=\u001b[39;49m\u001b[43mtexts\u001b[49m\u001b[43m,\u001b[49m\n\u001b[1;32m    889\u001b[0m \u001b[43m    \u001b[49m\u001b[43membedding\u001b[49m\u001b[38;5;241;43m=\u001b[39;49m\u001b[43membedding\u001b[49m\u001b[43m,\u001b[49m\n\u001b[1;32m    890\u001b[0m \u001b[43m    \u001b[49m\u001b[43mmetadatas\u001b[49m\u001b[38;5;241;43m=\u001b[39;49m\u001b[43mmetadatas\u001b[49m\u001b[43m,\u001b[49m\n\u001b[1;32m    891\u001b[0m \u001b[43m    \u001b[49m\u001b[43mids\u001b[49m\u001b[38;5;241;43m=\u001b[39;49m\u001b[43mids\u001b[49m\u001b[43m,\u001b[49m\n\u001b[1;32m    892\u001b[0m \u001b[43m    \u001b[49m\u001b[43mcollection_name\u001b[49m\u001b[38;5;241;43m=\u001b[39;49m\u001b[43mcollection_name\u001b[49m\u001b[43m,\u001b[49m\n\u001b[1;32m    893\u001b[0m \u001b[43m    \u001b[49m\u001b[43mpersist_directory\u001b[49m\u001b[38;5;241;43m=\u001b[39;49m\u001b[43mpersist_directory\u001b[49m\u001b[43m,\u001b[49m\n\u001b[1;32m    894\u001b[0m \u001b[43m    \u001b[49m\u001b[43mclient_settings\u001b[49m\u001b[38;5;241;43m=\u001b[39;49m\u001b[43mclient_settings\u001b[49m\u001b[43m,\u001b[49m\n\u001b[1;32m    895\u001b[0m \u001b[43m    \u001b[49m\u001b[43mclient\u001b[49m\u001b[38;5;241;43m=\u001b[39;49m\u001b[43mclient\u001b[49m\u001b[43m,\u001b[49m\n\u001b[1;32m    896\u001b[0m \u001b[43m    \u001b[49m\u001b[43mcollection_metadata\u001b[49m\u001b[38;5;241;43m=\u001b[39;49m\u001b[43mcollection_metadata\u001b[49m\u001b[43m,\u001b[49m\n\u001b[1;32m    897\u001b[0m \u001b[43m    \u001b[49m\u001b[38;5;241;43m*\u001b[39;49m\u001b[38;5;241;43m*\u001b[39;49m\u001b[43mkwargs\u001b[49m\u001b[43m,\u001b[49m\n\u001b[1;32m    898\u001b[0m \u001b[43m\u001b[49m\u001b[43m)\u001b[49m\n",
      "File \u001b[0;32m/opt/conda/lib/python3.11/site-packages/langchain_community/vectorstores/chroma.py:817\u001b[0m, in \u001b[0;36mChroma.from_texts\u001b[0;34m(cls, texts, embedding, metadatas, ids, collection_name, persist_directory, client_settings, client, collection_metadata, **kwargs)\u001b[0m\n\u001b[1;32m    784\u001b[0m \u001b[38;5;129m@classmethod\u001b[39m\n\u001b[1;32m    785\u001b[0m \u001b[38;5;28;01mdef\u001b[39;00m \u001b[38;5;21mfrom_texts\u001b[39m(\n\u001b[1;32m    786\u001b[0m     \u001b[38;5;28mcls\u001b[39m: Type[Chroma],\n\u001b[0;32m   (...)\u001b[0m\n\u001b[1;32m    796\u001b[0m     \u001b[38;5;241m*\u001b[39m\u001b[38;5;241m*\u001b[39mkwargs: Any,\n\u001b[1;32m    797\u001b[0m ) \u001b[38;5;241m-\u001b[39m\u001b[38;5;241m>\u001b[39m Chroma:\n\u001b[1;32m    798\u001b[0m \u001b[38;5;250m    \u001b[39m\u001b[38;5;124;03m\"\"\"Create a Chroma vectorstore from a raw documents.\u001b[39;00m\n\u001b[1;32m    799\u001b[0m \n\u001b[1;32m    800\u001b[0m \u001b[38;5;124;03m    If a persist_directory is specified, the collection will be persisted there.\u001b[39;00m\n\u001b[0;32m   (...)\u001b[0m\n\u001b[1;32m    815\u001b[0m \u001b[38;5;124;03m        Chroma: Chroma vectorstore.\u001b[39;00m\n\u001b[1;32m    816\u001b[0m \u001b[38;5;124;03m    \"\"\"\u001b[39;00m\n\u001b[0;32m--> 817\u001b[0m     chroma_collection \u001b[38;5;241m=\u001b[39m \u001b[38;5;28mcls\u001b[39m(\n\u001b[1;32m    818\u001b[0m         collection_name\u001b[38;5;241m=\u001b[39mcollection_name,\n\u001b[1;32m    819\u001b[0m         embedding_function\u001b[38;5;241m=\u001b[39membedding,\n\u001b[1;32m    820\u001b[0m         persist_directory\u001b[38;5;241m=\u001b[39mpersist_directory,\n\u001b[1;32m    821\u001b[0m         client_settings\u001b[38;5;241m=\u001b[39mclient_settings,\n\u001b[1;32m    822\u001b[0m         client\u001b[38;5;241m=\u001b[39mclient,\n\u001b[1;32m    823\u001b[0m         collection_metadata\u001b[38;5;241m=\u001b[39mcollection_metadata,\n\u001b[1;32m    824\u001b[0m         \u001b[38;5;241m*\u001b[39m\u001b[38;5;241m*\u001b[39mkwargs,\n\u001b[1;32m    825\u001b[0m     )\n\u001b[1;32m    826\u001b[0m     \u001b[38;5;28;01mif\u001b[39;00m ids \u001b[38;5;129;01mis\u001b[39;00m \u001b[38;5;28;01mNone\u001b[39;00m:\n\u001b[1;32m    827\u001b[0m         ids \u001b[38;5;241m=\u001b[39m [\u001b[38;5;28mstr\u001b[39m(uuid\u001b[38;5;241m.\u001b[39muuid4()) \u001b[38;5;28;01mfor\u001b[39;00m _ \u001b[38;5;129;01min\u001b[39;00m texts]\n",
      "\u001b[0;31mTypeError\u001b[0m: langchain_community.vectorstores.chroma.Chroma() got multiple values for keyword argument 'embedding_function'"
     ]
    }
   ],
   "source": [
    "# ตัวอย่างการใช้งาน\n",
    "pdf_directory = \"./files\"  # โฟลเดอร์ที่เก็บไฟล์ PDF\n",
    "vectorstore = create_thai_embeddings(pdf_directory)\n",
    "\n",
    "# ตัวอย่างการค้นหา\n",
    "# query = \"คำค้นหาภาษาไทย\"\n",
    "# results = vectorstore.similarity_search(query)\n",
    "# for doc in results:\n",
    "#     print(f\"Source: {doc.metadata['source_file']}, Page: {doc.metadata['page']}\")\n",
    "#     print(doc.page_content)\n",
    "#     print(\"-\" * 50)"
   ]
  },
  {
   "cell_type": "code",
   "execution_count": null,
   "id": "59b5eefa-4f1b-4870-9442-ae285c9a5dd9",
   "metadata": {},
   "outputs": [],
   "source": []
  },
  {
   "cell_type": "code",
   "execution_count": null,
   "id": "38ea831a-808b-4add-ad8c-4ee656848d02",
   "metadata": {},
   "outputs": [],
   "source": []
  },
  {
   "cell_type": "code",
   "execution_count": null,
   "id": "4231eed2-b32c-46d0-89d3-8377b8986029",
   "metadata": {},
   "outputs": [],
   "source": []
  }
 ],
 "metadata": {
  "kernelspec": {
   "display_name": "Python 3 (ipykernel)",
   "language": "python",
   "name": "python3"
  },
  "language_info": {
   "codemirror_mode": {
    "name": "ipython",
    "version": 3
   },
   "file_extension": ".py",
   "mimetype": "text/x-python",
   "name": "python",
   "nbconvert_exporter": "python",
   "pygments_lexer": "ipython3",
   "version": "3.11.6"
  }
 },
 "nbformat": 4,
 "nbformat_minor": 5
}
