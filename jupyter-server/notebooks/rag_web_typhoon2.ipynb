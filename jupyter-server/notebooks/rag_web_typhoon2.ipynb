{
 "cells": [
  {
   "cell_type": "code",
   "execution_count": 1,
   "id": "f49d44bd-6b63-4ea1-b140-b55a66923d18",
   "metadata": {},
   "outputs": [],
   "source": [
    "# !pip install transformers torch\n",
    "# !pip install 'accelerate>=0.26.0'\n",
    "\n",
    "# นำเข้าโมดูลที่ต้องการ\n",
    "from transformers import AutoTokenizer, AutoModelForCausalLM\n",
    "import torch\n",
    "\n",
    "def askTyphoon2(prompt: str):\n",
    "    print(\"--Chat with Typhoon2--\");\n",
    "    \n",
    "    # โหลดโมเดลและ tokenizer\n",
    "    model_id = \"scb10x/llama3.2-typhoon2-1b-instruct\"\n",
    "    tokenizer = AutoTokenizer.from_pretrained(model_id)\n",
    "    model = AutoModelForCausalLM.from_pretrained(model_id, torch_dtype=torch.bfloat16)\n",
    "    # model = AutoModelForCausalLM.from_pretrained(model_id, torch_dtype=torch.bfloat16, device_map=\"auto\")\n",
    "\n",
    "    # เตรียมข้อความนำเข้า\n",
    "    messages = [\n",
    "        {\"role\": \"system\", \"content\": \"You are a friendly assistant. Answer the question based only on the following context. If you don't know the answer, then reply, No Context availabel for this question.\"},\n",
    "        {\"role\": \"user\", \"content\": prompt}\n",
    "    ]\n",
    "    # แปลงข้อความเป็น token (คืนค่าเป็น tensor โดยตรง)\n",
    "    input_ids = tokenizer.apply_chat_template(messages, add_generation_prompt=True, return_tensors=\"pt\").to(model.device)\n",
    "    \n",
    "    # สร้าง attention_mask จาก input_ids (1 สำหรับ token จริง, 0 สำหรับ padding)\n",
    "    attention_mask = (input_ids != tokenizer.pad_token_id).long().to(model.device)\n",
    "    \n",
    "    # กำหนดพารามิเตอร์สำหรับการสร้างข้อความ\n",
    "    terminators = [tokenizer.eos_token_id, tokenizer.convert_tokens_to_ids(\"<|eot_id|>\")]\n",
    "    \n",
    "    # สร้างข้อความตอบกลับ\n",
    "    outputs = model.generate(\n",
    "        input_ids,\n",
    "        attention_mask=attention_mask,  # ส่ง attention_mask เข้าไป\n",
    "        max_new_tokens=512,\n",
    "        eos_token_id=terminators,\n",
    "        do_sample=True,\n",
    "        temperature=0.7,\n",
    "        top_p=0.95,\n",
    "        pad_token_id=tokenizer.pad_token_id  # กำหนด pad_token_id อย่างชัดเจน\n",
    "    )\n",
    "    \n",
    "    # แปลงผลลัพธ์กลับเป็นข้อความ\n",
    "    response = outputs[0][input_ids.shape[-1]:]\n",
    "    answer = tokenizer.decode(response, skip_special_tokens=True)\n",
    "    print(answer)"
   ]
  },
  {
   "cell_type": "code",
   "execution_count": 2,
   "id": "3bf816c4-70d1-441b-88b6-88ad4b390cdc",
   "metadata": {},
   "outputs": [],
   "source": [
    "# !pip install -U transformers langchain langchain_huggingface langchain_community sentence-transformers langchain_huggingface langchain_core chromadb ipywidgets\n",
    "\n",
    "from langchain.text_splitter import RecursiveCharacterTextSplitter\n",
    "from langchain_core.documents import Document  # นำเข้า Document\n",
    "\n",
    "def textSplitter(text: str):\n",
    "    # สร้าง Document\n",
    "    documents = [Document(page_content=text, metadata={\n",
    "        \"source\":\"website.txt\"\n",
    "    })]\n",
    "    \n",
    "    # Split the text by char\n",
    "    text_splitter = RecursiveCharacterTextSplitter(\n",
    "        chunk_size=512,\n",
    "        chunk_overlap=51,\n",
    "        length_function=len,\n",
    "        strip_whitespace=True,\n",
    "    )\n",
    "    chunks = text_splitter.split_documents(documents)\n",
    "    print(f\"Split text into {len(chunks)} chunks.\")\n",
    "    return chunks\n",
    "\n",
    "def documentsSplitter(documents: Document):\n",
    "    # Split the text by char\n",
    "    text_splitter = RecursiveCharacterTextSplitter(\n",
    "        chunk_size=512,\n",
    "        chunk_overlap=51,\n",
    "        length_function=len,\n",
    "        strip_whitespace=True,\n",
    "    )\n",
    "    chunks = text_splitter.split_documents(documents)\n",
    "    print(f\"Split text into {len(chunks)} chunks.\")\n",
    "    return chunks"
   ]
  },
  {
   "cell_type": "code",
   "execution_count": null,
   "id": "431425e0-4f82-44dc-bee5-cafe40fa2900",
   "metadata": {},
   "outputs": [],
   "source": [
    "# !pip install -U langchain-chroma\n",
    "\n",
    "import os\n",
    "from typing import List\n",
    "from langchain_huggingface import HuggingFaceEmbeddings\n",
    "from langchain_chroma import Chroma\n",
    "\n",
    "def ingest(chunks: List[Document], embeddings_dir:str):\n",
    "    \"\"\"\n",
    "    ฟังก์ชันที่รับรายการของ Document (chunks) และนำไปสร้าง Vector database\n",
    "    \"\"\"\n",
    "\n",
    "    model_name = \"BAAI/bge-m3\"\n",
    "    model_kwargs = {'device': 'cpu'}\n",
    "    encode_kwargs = {'normalize_embeddings': False}\n",
    "    \n",
    "    embedding = HuggingFaceEmbeddings(\n",
    "        model_name=model_name,\n",
    "        model_kwargs=model_kwargs,\n",
    "        encode_kwargs=encode_kwargs\n",
    "    )\n",
    "\n",
    "    \n",
    "    \n",
    "   # ตรวจสอบว่ามี vector store อยู่แล้วหรือไม่\n",
    "    if os.path.exists(os.path.join(embeddings_dir, \"chroma.sqlite3\")):\n",
    "        print(\"--append data to vector store--\")\n",
    "        # โหลด vector store ที่มีอยู่\n",
    "        vector_store = Chroma(persist_directory=embeddings_dir, embedding_function=embedding)\n",
    "        # เพิ่มเอกสารใหม่\n",
    "        vector_store.add_documents(documents=chunks)\n",
    "    else:\n",
    "        print(\"--new vector store--\")\n",
    "        # สร้างไดเรกทอรีสำหรับบันทึก embeddings\n",
    "        os.makedirs(embeddings_dir, exist_ok=True)\n",
    "        # สร้าง vector store ใหม่และบันทึก embeddings ลงในไฟล์\n",
    "        Chroma.from_documents(documents=chunks, embedding=embedding, persist_directory=embeddings_dir)\n",
    "\n",
    "    print(\"--- Ingest to Vector Database Success ---\")"
   ]
  },
  {
   "cell_type": "code",
   "execution_count": 4,
   "id": "93a70f30-a16c-42a6-95aa-c0ca0f18ead9",
   "metadata": {},
   "outputs": [],
   "source": [
    "# !pip install requests\n",
    "# !pip install beautifulsoup4"
   ]
  },
  {
   "cell_type": "code",
   "execution_count": null,
   "id": "e2fefde8-0f5a-4171-8a88-0682eabc4b6d",
   "metadata": {},
   "outputs": [],
   "source": [
    "import requests\n",
    "\n",
    "original_get = requests.get\n",
    "\n",
    "def patched_get(url, *args, **kwargs):\n",
    "    headers = kwargs.pop(\"headers\", {})\n",
    "    headers[\"User-Agent\"] = \"Mozilla/5.0 (Windows NT 10.0; Win64; x64) AppleWebKit/537.36 (KHTML, like Gecko) Chrome/123.0.0.0 Safari/537.36\"\n",
    "    return original_get(url, headers=headers, *args, **kwargs)"
   ]
  },
  {
   "cell_type": "code",
   "execution_count": null,
   "id": "6bc72feb-05b2-406a-bcb8-0a39c93a4c52",
   "metadata": {},
   "outputs": [],
   "source": [
    "import bs4\n",
    "import requests\n",
    "from langchain_community.document_loaders import WebBaseLoader\n",
    "\n",
    "def loadContentFromWebsite(url: str, targetClassName: str):\n",
    "    requests.get = patched_get  # ใช้ patched version ของ requests.get\n",
    "    bs4_strainer = bs4.SoupStrainer(class_=targetClassName)\n",
    "    loader = WebBaseLoader(\n",
    "        web_paths=(url,), # , ที่อยู่ในวงเล็บสำคัญนะห้ามลบ\n",
    "        bs_kwargs={\"parse_only\": bs4_strainer},\n",
    "    )\n",
    "    docs = loader.load()\n",
    "    # คืนค่า requests.get กลับเป็นปกติ (ถ้าต้องการ)\n",
    "    requests.get = original_get\n",
    "    \n",
    "    return docs"
   ]
  },
  {
   "cell_type": "code",
   "execution_count": null,
   "id": "4f8bddba-d62e-472f-beec-7d3808b34630",
   "metadata": {},
   "outputs": [],
   "source": [
    "# !pip install -U langchain-chroma\n",
    "from langchain_chroma import Chroma  # แก้ไขการนำเข้า\n",
    "\n",
    "def loadVectorStore(embeddings_dir: str):\n",
    "    model_name = \"BAAI/bge-m3\"\n",
    "    model_kwargs = {'device': 'cpu'}\n",
    "    encode_kwargs = {'normalize_embeddings': False}\n",
    "    \n",
    "    embedding = HuggingFaceEmbeddings(\n",
    "        model_name=model_name,\n",
    "        model_kwargs=model_kwargs,\n",
    "        encode_kwargs=encode_kwargs\n",
    "    )\n",
    "    vector_store = Chroma(persist_directory=embeddings_dir, embedding_function=embedding)\n",
    "    print(\"--Vector Store Loaded--\")\n",
    "    return vector_store"
   ]
  },
  {
   "cell_type": "code",
   "execution_count": 20,
   "id": "2986f0f9-d23f-4415-9599-a384671e56e5",
   "metadata": {},
   "outputs": [],
   "source": [
    "def getRetriever(vector_store: Chroma):\n",
    "    retriever = vector_store.as_retriever(search_type=\"similarity\", search_kwargs={\"k\": 3})\n",
    "    return retriever"
   ]
  },
  {
   "cell_type": "code",
   "execution_count": 21,
   "id": "6c29b3b7-ca03-4996-af0a-75b275262e18",
   "metadata": {},
   "outputs": [],
   "source": [
    "from langchain_core.retrievers import BaseRetriever\n",
    "\n",
    "def genPrompt(question : str, retriever: BaseRetriever):\n",
    "    retrieved_docs = retriever.invoke(question )\n",
    "    context = ' '.join([doc.page_content for doc in retrieved_docs])\n",
    "    prompt = f\"\"\"\n",
    "        <s> [Instructions] \n",
    "                You are a friendly assistant. Answer the question based only on the following context. \n",
    "                If you don't know the answer, then reply, No Context availabel for this question.\n",
    "            [/Instructions] \n",
    "        </s> \n",
    "        [Instructions] \n",
    "            Question: {question}\n",
    "            Context: {context} \n",
    "            Answer:\n",
    "        [/Instructions]\n",
    "        \"\"\"\n",
    "    return prompt"
   ]
  },
  {
   "cell_type": "code",
   "execution_count": 55,
   "id": "bfba9d64-7bad-4afa-846a-fe83ae45dca3",
   "metadata": {},
   "outputs": [
    {
     "name": "stdout",
     "output_type": "stream",
     "text": [
      "[Document(metadata={'source': 'https://www.sanook.com/news/9735274/'}, page_content='เด็กสาววัย 16 ไปโรงพยาบาลเพราะท้องอืด ช็อก หมอบอกมีชีวิตอยู่ได้อีกแค่ 1 สัปดาห์ ต้องผ่าตัดด่วน\\nอเล็กซ์ อาร์เคล อายุ 16 ปี จากสติริง สกอตแลนด์ ไปพบแพทย์เพื่อตรวจสอบอาการท้องอืดและปวดท้องที่เธอประสบอยู่ในช่วงหลัง ซึ่งไม่เคยคาดคิดว่าเธอจะเหลือเวลาอีกแค่ 1 สัปดาห์ในการมีชีวิตอยู่จากการมีเนื้องอกที่หายากมากในโลก\\nอเล็กซ์สังเกตเห็นอาการไม่สบายตัวครั้งแรกในระหว่างทริปท่องเที่ยวกับครอบครัว และเมื่อกลับบ้าน เธอก็รีบไปนัดหมายตรวจสุขภาพกับแพทย์ เธอได้รับการตรวจเลือดและเพียงแค่สัปดาห์เดียวหลังจากนั้นก็ถูกนำตัวไปโรงพยาบาลเพื่อทำการอัลตราซาวด์ ขณะนั้นเธอสูญเสียการมองเห็นในสายตาซ้ายและได้รับการแจ้งว่าเนื้องอกของเธอเติบโตขึ้นอีก 13 เซนติเมตร\\nอเล็กซ์ได้รับการแจ้งว่าเธอเป็นโรคเนื้องอกต่อมใต้สมองที่หายาก ซึ่งในโลกนี้มีการบันทึกกรณีเช่นนี้เพียง 20 ราย และเธอเหลือเวลาแค่ 1 สัปดาห์เท่านั้น \"เมื่ออายุ 16 ปี ชีวิตของฉันเหมือนจะผ่านไปต่อหน้าต่อตา สิ่งที่ฉันเคยห่วงใยมันไม่สำคัญสำหรับฉันอีกต่อจากวันนั้น\" นักเรียนหญิงเผยว่าเธอได้รับการสั่งให้ผ่าตัดด่วนก่อนที่เนื้องอกจะระเบิดและทำให้ชีวิตเธอมีความเสี่ยง\\n\"ฉันถูกนำตัวไปโรงพยาบาลเพื่อผ่าตัดฉุกเฉินในสองวันหลังจากนั้น ฉันไม่รู้ว่าจะอธิบายความรู้สึกของตัวเองในตอนนั้นอย่างไร ในขณะนั้น ฉันไม่รู้ว่ามันจะเปลี่ยนชีวิตของฉันอย่างไร ฉันรู้สึกตกใจ กลัว วิตกกังวลเกี่ยวกับการผ่าตัด ฉันสงสัยว่าฉันจะตายหรือไม่ หรือฉันจะมีแผลเป็นที่ใบหน้าไหม?\"\\xa0\\nโชคร้ายที่อเล็กซ์ประสบปัญหาภายหลังการผ่าตัดในปี 2021 และต้องนอนรักษาตัวในโรงพยาบาล 2 สัปดาห์ ในระหว่างนี้ เธอได้รับการตรวจสอบอย่างต่อเนื่องทั้งฮอร์โมนและเลือด รวมถึงติดตามสภาพสุขภาพทุกชั่วโมง\\nหลังจากผ่านพ้นวิกฤต อเล็กซ์ได้รับการวินิจฉัยว่าเป็นโรค PTSD (ภาวะเครียดหลังเหตุการณ์สะเทือนใจ) เธอเกือบจะพลาดปีการศึกษาทั้งปี รวมถึงการสอบ เนื่องจากกระบวนการฟื้นฟูใช้เวลานาน 13 เดือนต่อมา อเล็กซ์ได้รับการแจ้งว่าเธอต้องผ่าตัดด่วนอีกครั้งหลังจากเนื้องอกได้เติบโตและกดทับเส้นประสาทตาของเธอ\\nในเดือนกุมภาพันธ์ 2023 เธอได้รับการรักษาด้วยโปรตอนบีมเทอราพี ซึ่งเป็นวิธีการรักษาด้วยรังสีที่มีจุดมุ่งหมายและมีความเสี่ยงต่ำกว่าเป็นเวลา 5 สัปดาห์ จนกระทั่งเดือนธันวาคมของปีเดียวกัน ได้รับข่าวร้ายเพิ่มเติมว่า การรักษาด้วยรังสีไม่สำเร็จและเธอจำเป็นต้องผ่าตัดครั้งที่สาม การผ่าตัดสำเร็จ แต่เธอยังคงได้รับการรักษาเพื่อกำจัดเนื้องอกมะเร็งนี้ออกให้หมด')]\n"
     ]
    }
   ],
   "source": [
    "documents = loadContentFromWebsite(\n",
    "    url=\"https://www.sanook.com/news/9735274/\",\n",
    "    targetClassName= \"EntryReaderInner\"\n",
    ")\n",
    "print(documents)"
   ]
  },
  {
   "cell_type": "code",
   "execution_count": 68,
   "id": "8c28f7b8-ff61-483c-963f-821d30d58c8b",
   "metadata": {},
   "outputs": [
    {
     "name": "stdout",
     "output_type": "stream",
     "text": [
      "Split text into 6 chunks.\n",
      "[Document(metadata={'source': 'https://www.sanook.com/news/9735274/'}, page_content='เด็กสาววัย 16 ไปโรงพยาบาลเพราะท้องอืด ช็อก หมอบอกมีชีวิตอยู่ได้อีกแค่ 1 สัปดาห์ ต้องผ่าตัดด่วน\\nอเล็กซ์ อาร์เคล อายุ 16 ปี จากสติริง สกอตแลนด์ ไปพบแพทย์เพื่อตรวจสอบอาการท้องอืดและปวดท้องที่เธอประสบอยู่ในช่วงหลัง ซึ่งไม่เคยคาดคิดว่าเธอจะเหลือเวลาอีกแค่ 1 สัปดาห์ในการมีชีวิตอยู่จากการมีเนื้องอกที่หายากมากในโลก'), Document(metadata={'source': 'https://www.sanook.com/news/9735274/'}, page_content='อเล็กซ์สังเกตเห็นอาการไม่สบายตัวครั้งแรกในระหว่างทริปท่องเที่ยวกับครอบครัว และเมื่อกลับบ้าน เธอก็รีบไปนัดหมายตรวจสุขภาพกับแพทย์ เธอได้รับการตรวจเลือดและเพียงแค่สัปดาห์เดียวหลังจากนั้นก็ถูกนำตัวไปโรงพยาบาลเพื่อทำการอัลตราซาวด์ ขณะนั้นเธอสูญเสียการมองเห็นในสายตาซ้ายและได้รับการแจ้งว่าเนื้องอกของเธอเติบโตขึ้นอีก 13 เซนติเมตร'), Document(metadata={'source': 'https://www.sanook.com/news/9735274/'}, page_content='อเล็กซ์ได้รับการแจ้งว่าเธอเป็นโรคเนื้องอกต่อมใต้สมองที่หายาก ซึ่งในโลกนี้มีการบันทึกกรณีเช่นนี้เพียง 20 ราย และเธอเหลือเวลาแค่ 1 สัปดาห์เท่านั้น \"เมื่ออายุ 16 ปี ชีวิตของฉันเหมือนจะผ่านไปต่อหน้าต่อตา สิ่งที่ฉันเคยห่วงใยมันไม่สำคัญสำหรับฉันอีกต่อจากวันนั้น\" นักเรียนหญิงเผยว่าเธอได้รับการสั่งให้ผ่าตัดด่วนก่อนที่เนื้องอกจะระเบิดและทำให้ชีวิตเธอมีความเสี่ยง'), Document(metadata={'source': 'https://www.sanook.com/news/9735274/'}, page_content='\"ฉันถูกนำตัวไปโรงพยาบาลเพื่อผ่าตัดฉุกเฉินในสองวันหลังจากนั้น ฉันไม่รู้ว่าจะอธิบายความรู้สึกของตัวเองในตอนนั้นอย่างไร ในขณะนั้น ฉันไม่รู้ว่ามันจะเปลี่ยนชีวิตของฉันอย่างไร ฉันรู้สึกตกใจ กลัว วิตกกังวลเกี่ยวกับการผ่าตัด ฉันสงสัยว่าฉันจะตายหรือไม่ หรือฉันจะมีแผลเป็นที่ใบหน้าไหม?\"\\xa0\\nโชคร้ายที่อเล็กซ์ประสบปัญหาภายหลังการผ่าตัดในปี 2021 และต้องนอนรักษาตัวในโรงพยาบาล 2 สัปดาห์ ในระหว่างนี้ เธอได้รับการตรวจสอบอย่างต่อเนื่องทั้งฮอร์โมนและเลือด รวมถึงติดตามสภาพสุขภาพทุกชั่วโมง'), Document(metadata={'source': 'https://www.sanook.com/news/9735274/'}, page_content='หลังจากผ่านพ้นวิกฤต อเล็กซ์ได้รับการวินิจฉัยว่าเป็นโรค PTSD (ภาวะเครียดหลังเหตุการณ์สะเทือนใจ) เธอเกือบจะพลาดปีการศึกษาทั้งปี รวมถึงการสอบ เนื่องจากกระบวนการฟื้นฟูใช้เวลานาน 13 เดือนต่อมา อเล็กซ์ได้รับการแจ้งว่าเธอต้องผ่าตัดด่วนอีกครั้งหลังจากเนื้องอกได้เติบโตและกดทับเส้นประสาทตาของเธอ'), Document(metadata={'source': 'https://www.sanook.com/news/9735274/'}, page_content='ในเดือนกุมภาพันธ์ 2023 เธอได้รับการรักษาด้วยโปรตอนบีมเทอราพี ซึ่งเป็นวิธีการรักษาด้วยรังสีที่มีจุดมุ่งหมายและมีความเสี่ยงต่ำกว่าเป็นเวลา 5 สัปดาห์ จนกระทั่งเดือนธันวาคมของปีเดียวกัน ได้รับข่าวร้ายเพิ่มเติมว่า การรักษาด้วยรังสีไม่สำเร็จและเธอจำเป็นต้องผ่าตัดครั้งที่สาม การผ่าตัดสำเร็จ แต่เธอยังคงได้รับการรักษาเพื่อกำจัดเนื้องอกมะเร็งนี้ออกให้หมด')]\n"
     ]
    }
   ],
   "source": [
    "chunks = documentsSplitter(documents)\n",
    "print(chunks)"
   ]
  },
  {
   "cell_type": "code",
   "execution_count": 69,
   "id": "7d36a36f-12a0-4300-9aec-b0773fa98feb",
   "metadata": {},
   "outputs": [
    {
     "name": "stdout",
     "output_type": "stream",
     "text": [
      "--- Ingest Text Successc ---\n"
     ]
    }
   ],
   "source": [
    "embeddings_dir=\"./embeddings-reg-web-typhoon2\"\n",
    "\n",
    "ingest(\n",
    "    chunks=chunks,\n",
    "    embeddings_dir=embeddings_dir\n",
    ")"
   ]
  },
  {
   "cell_type": "code",
   "execution_count": 70,
   "id": "495481c0-fd53-4421-a365-6852a4275c79",
   "metadata": {},
   "outputs": [
    {
     "name": "stdout",
     "output_type": "stream",
     "text": [
      "--Vector Store Loaded--\n"
     ]
    }
   ],
   "source": [
    "vectorstore = loadVectorStore(embeddings_dir)"
   ]
  },
  {
   "cell_type": "code",
   "execution_count": 71,
   "id": "bc6a4f25-cfb9-4253-817e-97af69f1355a",
   "metadata": {},
   "outputs": [],
   "source": [
    "retriever = getRetriever(vectorstore)"
   ]
  },
  {
   "cell_type": "code",
   "execution_count": 73,
   "id": "acb1fcd8-84a3-40b3-94f4-c6cfd9e5d1eb",
   "metadata": {},
   "outputs": [
    {
     "name": "stdout",
     "output_type": "stream",
     "text": [
      "\n",
      "        <s> [Instructions] \n",
      "                You are a friendly assistant. Answer the question based only on the following context. \n",
      "                If you don't know the answer, then reply, No Context availabel for this question.\n",
      "            [/Instructions] \n",
      "        </s> \n",
      "        [Instructions] \n",
      "            Question: อเล็กมีอายุกี่ปี\n",
      "            Context: เด็กสาววัย 16 ไปโรงพยาบาลเพราะท้องอืด ช็อก หมอบอกมีชีวิตอยู่ได้อีกแค่ 1 สัปดาห์ ต้องผ่าตัดด่วน\n",
      "อเล็กซ์ อาร์เคล อายุ 16 ปี จากสติริง สกอตแลนด์ ไปพบแพทย์เพื่อตรวจสอบอาการท้องอืดและปวดท้องที่เธอประสบอยู่ในช่วงหลัง ซึ่งไม่เคยคาดคิดว่าเธอจะเหลือเวลาอีกแค่ 1 สัปดาห์ในการมีชีวิตอยู่จากการมีเนื้องอกที่หายากมากในโลก เด็กสาววัย 16 ไปโรงพยาบาลเพราะท้องอืด ช็อก หมอบอกมีชีวิตอยู่ได้อีกแค่ 1 สัปดาห์ ต้องผ่าตัดด่วน\n",
      "อเล็กซ์ อาร์เคล อายุ 16 ปี จากสติริง สกอตแลนด์ ไปพบแพทย์เพื่อตรวจสอบอาการท้องอืดและปวดท้องที่เธอประสบอยู่ในช่วงหลัง ซึ่งไม่เคยคาดคิดว่าเธอจะเหลือเวลาอีกแค่ 1 สัปดาห์ในการมีชีวิตอยู่จากการมีเนื้องอกที่หายากมากในโลก เด็กสาววัย 16 ไปโรงพยาบาลเพราะท้องอืด ช็อก หมอบอกมีชีวิตอยู่ได้อีกแค่ 1 สัปดาห์ ต้องผ่าตัดด่วน\n",
      "อเล็กซ์ อาร์เคล อายุ 16 ปี จากสติริง สกอตแลนด์ ไปพบแพทย์เพื่อตรวจสอบอาการท้องอืดและปวดท้องที่เธอประสบอยู่ในช่วงหลัง ซึ่งไม่เคยคาดคิดว่าเธอจะเหลือเวลาอีกแค่ 1 สัปดาห์ในการมีชีวิตอยู่จากการมีเนื้องอกที่หายากมากในโลก \n",
      "            Answer:\n",
      "        [/Instructions]\n",
      "        \n"
     ]
    }
   ],
   "source": [
    "prompt = genPrompt(\"อเล็กมีอายุกี่ปี\",retriever)\n",
    "\n",
    "print(prompt)"
   ]
  },
  {
   "cell_type": "code",
   "execution_count": 74,
   "id": "5955c932-9523-45c6-a1ea-ad934a9ce9a2",
   "metadata": {},
   "outputs": [
    {
     "name": "stdout",
     "output_type": "stream",
     "text": [
      "16\n"
     ]
    }
   ],
   "source": [
    "askTyphoon2(prompt)"
   ]
  },
  {
   "cell_type": "code",
   "execution_count": 79,
   "id": "123a5f44-fe2f-4108-b677-487c57f5f855",
   "metadata": {},
   "outputs": [
    {
     "name": "stdout",
     "output_type": "stream",
     "text": [
      "16\n"
     ]
    }
   ],
   "source": [
    "askTyphoon2(genPrompt(\"อเล็กมีลูกกี่คน\",retriever))\n"
   ]
  },
  {
   "cell_type": "code",
   "execution_count": 81,
   "id": "bc8bc3da-0d6b-4baf-bd3e-14ffd9668d26",
   "metadata": {},
   "outputs": [
    {
     "name": "stdout",
     "output_type": "stream",
     "text": [
      "เธอได้รับอาหารในโรงพยาบาลและได้รับการผ่าตัดที่ดี\n"
     ]
    }
   ],
   "source": [
    "askTyphoon2(genPrompt(\"อเล็กกินกับใคร\",retriever))\n"
   ]
  },
  {
   "cell_type": "code",
   "execution_count": 15,
   "id": "c05a52da-a481-4c71-b0d0-74fad29ec218",
   "metadata": {},
   "outputs": [],
   "source": [
    "def ingestWebsite(url: str,targetClassName: str):\n",
    "    documents = loadContentFromWebsite(\n",
    "        url=url,\n",
    "        targetClassName= targetClassName\n",
    "    )\n",
    "    chunks = documentsSplitter(documents)\n",
    "    embeddings_dir=\"./embeddings-website\"\n",
    "    ingest(\n",
    "        chunks=chunks,\n",
    "        embeddings_dir=embeddings_dir\n",
    "    )\n",
    "    \n",
    "def askWebsite(question: str):\n",
    "    embeddings_dir=\"./embeddings-website\"\n",
    "    vectorstore = loadVectorStore(embeddings_dir)\n",
    "    retriever = getRetriever(vectorstore)\n",
    "    prompt = genPrompt(question= question, retriever= retriever)\n",
    "    askTyphoon2(prompt)"
   ]
  },
  {
   "cell_type": "code",
   "execution_count": 24,
   "id": "a071ef95-276f-4bc3-83ff-164f0d59467d",
   "metadata": {},
   "outputs": [
    {
     "name": "stdout",
     "output_type": "stream",
     "text": [
      "Split text into 8 chunks.\n",
      "--append data to vector store--\n",
      "--- Ingest to Vector Database Success ---\n"
     ]
    }
   ],
   "source": [
    "ingestWebsite(\n",
    "    url=\"https://www.sanook.com/travel/1451675/\",\n",
    "    targetClassName= \"EntryReaderInner\"\n",
    ")"
   ]
  },
  {
   "cell_type": "code",
   "execution_count": 25,
   "id": "cf46c37d-f991-44ef-bda1-49dd0f5e8fb1",
   "metadata": {},
   "outputs": [
    {
     "name": "stdout",
     "output_type": "stream",
     "text": [
      "--Vector Store Loaded--\n",
      "--Chat with Typhoon2--\n",
      "ต่อพาสปอร์ตใช้เอกสารอะไรบ้าง\n",
      "สำหรับผู้ที่มีอายุ 20 ปีขึ้นไป บัตรประชาชนตัวจริงที่ยังไม่หมดอายุ\n",
      "\n",
      "สำหรับผู้ที่อายุต่ำกว่า 20 ปี\n",
      "\n",
      "บัตรประชาชนตัวจริงที่ยังไม่หมดอายุ\n",
      "สูติบัตร (กรณีอายุต่ำกว่า 15 ปี)\n",
      "บัตรประชาชนของพ่อและแม่\n",
      "หนังสือยินยอมจากพ่อแม่ให้เดินทางไปต่างประเทศ นำบัตรประชาชนเสียบเข้าไปในเครื่อง Kiosk เพื่อดึงข้อมูล\n",
      "ตรวจสอบและกรอกข้อมูลเพิ่มเติมหากจำเป็น\n",
      "ถ่ายรูปด้วยตนเอง สามารถถ่ายใหม่จนกว่าจะพอใจ\n",
      "สแกนลายนิ้วมือและม่านตา (ควรงดใส่คอนแทคเลนส์สี)\n",
      "เลือกอายุการใช้งานของพาสปอร์ต (5 ปี หรือ 10 ปี)\n",
      "รับสลิปที่มี QR Code\n",
      "นำสลิปไปชำระค่าธรรมเนียมที่เคาน์เตอร์\n",
      "เลือกวิธีรับหนังสือเดินทาง (รับด้วยตนเองหรือจัดส่งทางไปรษณีย์)\n"
     ]
    }
   ],
   "source": [
    "askWebsite(\"ต่อพาสปอร์ต ใช้เอกสารอะไรบ้าง\");"
   ]
  },
  {
   "cell_type": "code",
   "execution_count": 26,
   "id": "e7168458-59bc-483f-9f1f-a24f110771ed",
   "metadata": {},
   "outputs": [
    {
     "name": "stdout",
     "output_type": "stream",
     "text": [
      "--Vector Store Loaded--\n",
      "--Chat with Typhoon2--\n",
      "เครื่องดื่มบูสต์พลังงานจากธรรมชาติมีดังนี้:\n",
      "1. คอมบูชา\n",
      "2. น้ำเมล็ดเจีย\n",
      "3. น้ำผึ้ง\n",
      "4. โยเกิร์ตหมักด้วยจุลินทรีย์\n",
      "5. น้ำผลไม้แห้ง\n",
      "6. น้ำผลไม้ที่มีไฟเบอร์สูง\n",
      "7. ชาเขียว\n",
      "8. ชาดำ\n",
      "9. น้ำมะพร้าว\n",
      "10. น้ำมะนาว\n",
      "11. น้ำส้ม\n",
      "12. น้ำแครนเบอร์รี่\n"
     ]
    }
   ],
   "source": [
    "askWebsite(\"เครื่องดื่มบูสต์พลังงานมีอะไรบ้าง\")"
   ]
  },
  {
   "cell_type": "code",
   "execution_count": null,
   "id": "04a5b0b8-8983-4768-91d8-bdbfc5080ddc",
   "metadata": {},
   "outputs": [],
   "source": []
  }
 ],
 "metadata": {
  "kernelspec": {
   "display_name": "Python 3 (ipykernel)",
   "language": "python",
   "name": "python3"
  },
  "language_info": {
   "codemirror_mode": {
    "name": "ipython",
    "version": 3
   },
   "file_extension": ".py",
   "mimetype": "text/x-python",
   "name": "python",
   "nbconvert_exporter": "python",
   "pygments_lexer": "ipython3",
   "version": "3.11.6"
  }
 },
 "nbformat": 4,
 "nbformat_minor": 5
}
