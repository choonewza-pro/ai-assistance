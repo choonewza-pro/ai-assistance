{
 "cells": [
  {
   "cell_type": "code",
   "execution_count": 24,
   "id": "799f21cf-7f60-4b6a-a276-92cb87047271",
   "metadata": {},
   "outputs": [
    {
     "name": "stderr",
     "output_type": "stream",
     "text": [
      "huggingface/tokenizers: The current process just got forked, after parallelism has already been used. Disabling parallelism to avoid deadlocks...\n",
      "To disable this warning, you can either:\n",
      "\t- Avoid using `tokenizers` before the fork if possible\n",
      "\t- Explicitly set the environment variable TOKENIZERS_PARALLELISM=(true | false)\n"
     ]
    },
    {
     "name": "stdout",
     "output_type": "stream",
     "text": [
      "Requirement already satisfied: accelerate>=0.26.0 in /opt/conda/lib/python3.11/site-packages (1.4.0)\n",
      "Requirement already satisfied: numpy<3.0.0,>=1.17 in /opt/conda/lib/python3.11/site-packages (from accelerate>=0.26.0) (1.26.4)\n",
      "Requirement already satisfied: packaging>=20.0 in /opt/conda/lib/python3.11/site-packages (from accelerate>=0.26.0) (23.2)\n",
      "Requirement already satisfied: psutil in /opt/conda/lib/python3.11/site-packages (from accelerate>=0.26.0) (5.9.5)\n",
      "Requirement already satisfied: pyyaml in /opt/conda/lib/python3.11/site-packages (from accelerate>=0.26.0) (6.0.1)\n",
      "Requirement already satisfied: torch>=2.0.0 in /opt/conda/lib/python3.11/site-packages (from accelerate>=0.26.0) (2.6.0)\n",
      "Requirement already satisfied: huggingface-hub>=0.21.0 in /opt/conda/lib/python3.11/site-packages (from accelerate>=0.26.0) (0.29.1)\n",
      "Requirement already satisfied: safetensors>=0.4.3 in /opt/conda/lib/python3.11/site-packages (from accelerate>=0.26.0) (0.5.2)\n",
      "Requirement already satisfied: filelock in /opt/conda/lib/python3.11/site-packages (from huggingface-hub>=0.21.0->accelerate>=0.26.0) (3.17.0)\n",
      "Requirement already satisfied: fsspec>=2023.5.0 in /opt/conda/lib/python3.11/site-packages (from huggingface-hub>=0.21.0->accelerate>=0.26.0) (2025.2.0)\n",
      "Requirement already satisfied: requests in /opt/conda/lib/python3.11/site-packages (from huggingface-hub>=0.21.0->accelerate>=0.26.0) (2.31.0)\n",
      "Requirement already satisfied: tqdm>=4.42.1 in /opt/conda/lib/python3.11/site-packages (from huggingface-hub>=0.21.0->accelerate>=0.26.0) (4.66.1)\n",
      "Requirement already satisfied: typing-extensions>=3.7.4.3 in /opt/conda/lib/python3.11/site-packages (from huggingface-hub>=0.21.0->accelerate>=0.26.0) (4.12.2)\n",
      "Requirement already satisfied: sympy==1.13.1 in /opt/conda/lib/python3.11/site-packages (from torch>=2.0.0->accelerate>=0.26.0) (1.13.1)\n",
      "Requirement already satisfied: networkx in /opt/conda/lib/python3.11/site-packages (from torch>=2.0.0->accelerate>=0.26.0) (3.4.2)\n",
      "Requirement already satisfied: jinja2 in /opt/conda/lib/python3.11/site-packages (from torch>=2.0.0->accelerate>=0.26.0) (3.1.2)\n",
      "Requirement already satisfied: mpmath<1.4,>=1.1.0 in /opt/conda/lib/python3.11/site-packages (from sympy==1.13.1->torch>=2.0.0->accelerate>=0.26.0) (1.3.0)\n",
      "Requirement already satisfied: MarkupSafe>=2.0 in /opt/conda/lib/python3.11/site-packages (from jinja2->torch>=2.0.0->accelerate>=0.26.0) (2.1.3)\n",
      "Requirement already satisfied: charset-normalizer<4,>=2 in /opt/conda/lib/python3.11/site-packages (from requests->huggingface-hub>=0.21.0->accelerate>=0.26.0) (3.3.0)\n",
      "Requirement already satisfied: idna<4,>=2.5 in /opt/conda/lib/python3.11/site-packages (from requests->huggingface-hub>=0.21.0->accelerate>=0.26.0) (3.4)\n",
      "Requirement already satisfied: urllib3<3,>=1.21.1 in /opt/conda/lib/python3.11/site-packages (from requests->huggingface-hub>=0.21.0->accelerate>=0.26.0) (2.0.7)\n",
      "Requirement already satisfied: certifi>=2017.4.17 in /opt/conda/lib/python3.11/site-packages (from requests->huggingface-hub>=0.21.0->accelerate>=0.26.0) (2023.7.22)\n"
     ]
    }
   ],
   "source": [
    "# !pip install transformers torch\n",
    "# !pip install 'accelerate>=0.26.0'"
   ]
  },
  {
   "cell_type": "code",
   "execution_count": 25,
   "id": "8677f035-e3ba-45c4-8843-5173a5caef54",
   "metadata": {},
   "outputs": [
    {
     "name": "stdout",
     "output_type": "stream",
     "text": [
      "1.4.0\n"
     ]
    }
   ],
   "source": [
    "import accelerate\n",
    "print(accelerate.__version__)"
   ]
  },
  {
   "cell_type": "code",
   "execution_count": 13,
   "id": "4a40b1dc-72f5-44bc-b9e3-ade61ad2e271",
   "metadata": {},
   "outputs": [],
   "source": [
    "# นำเข้าโมดูลที่ต้องการ\n",
    "from transformers import AutoTokenizer, AutoModelForCausalLM\n",
    "import torch"
   ]
  },
  {
   "cell_type": "code",
   "execution_count": 12,
   "id": "87f7193f-a65f-4ab5-b634-2c4b9ce92dbb",
   "metadata": {},
   "outputs": [],
   "source": [
    "# โหลดโมเดลและ tokenizer\n",
    "model_id = \"scb10x/llama3.2-typhoon2-1b-instruct\"\n",
    "tokenizer = AutoTokenizer.from_pretrained(model_id)\n",
    "model = AutoModelForCausalLM.from_pretrained(model_id, torch_dtype=torch.bfloat16, device_map=\"auto\")"
   ]
  },
  {
   "cell_type": "code",
   "execution_count": 18,
   "id": "cf7d5de0-b5a1-43c5-869d-93168ad4fb8f",
   "metadata": {},
   "outputs": [],
   "source": [
    "# เตรียมข้อความนำเข้า\n",
    "messages = [\n",
    "    {\"role\": \"system\", \"content\": \"คุณคือผู้ช่วย AI ที่ให้คำตอบอย่างช่วยเหลือ\"},\n",
    "    {\"role\": \"user\", \"content\": \"ผู้หญิงไทยสวยใหม?\"}\n",
    "]"
   ]
  },
  {
   "cell_type": "code",
   "execution_count": 19,
   "id": "1a317af6-778c-45a2-8369-5b5e31937068",
   "metadata": {},
   "outputs": [
    {
     "name": "stdout",
     "output_type": "stream",
     "text": [
      "ผู้หญิงไทยสวยใหมในปัจจุบันมักมีความหลากหลายทางรูปลักษณ์และความสามารถที่น่าสนใจ โดยมีผู้หญิงที่มีผลงานในวงการบันเทิง, การศึกษา, และการทำงานที่ดีเยี่ยม นอกจากนี้ยังมีการแสดงออกที่โดดเด่นในด้านต่าง ๆ เช่น การแสดง, การเต้น, และกิจกรรมที่เกี่ยวข้องกับวัฒนธรรมไทยอีกด้วย หากคุณต้องการข้อมูลเพิ่มเติมหรือคำแนะนำเกี่ยวกับผู้หญิงไทยที่สวยใหม่ สามารถสอบถามได้เลยนะคะ!\n"
     ]
    }
   ],
   "source": [
    "# แปลงข้อความเป็น token (คืนค่าเป็น tensor โดยตรง)\n",
    "input_ids = tokenizer.apply_chat_template(messages, add_generation_prompt=True, return_tensors=\"pt\").to(model.device)\n",
    "\n",
    "# สร้าง attention_mask จาก input_ids (1 สำหรับ token จริง, 0 สำหรับ padding)\n",
    "attention_mask = (input_ids != tokenizer.pad_token_id).long().to(model.device)\n",
    "\n",
    "# กำหนดพารามิเตอร์สำหรับการสร้างข้อความ\n",
    "terminators = [tokenizer.eos_token_id, tokenizer.convert_tokens_to_ids(\"<|eot_id|>\")]\n",
    "\n",
    "# สร้างข้อความตอบกลับ\n",
    "outputs = model.generate(\n",
    "    input_ids,\n",
    "    attention_mask=attention_mask,  # ส่ง attention_mask เข้าไป\n",
    "    max_new_tokens=512,\n",
    "    eos_token_id=terminators,\n",
    "    do_sample=True,\n",
    "    temperature=0.7,\n",
    "    top_p=0.95,\n",
    "    pad_token_id=tokenizer.pad_token_id  # กำหนด pad_token_id อย่างชัดเจน\n",
    ")\n",
    "\n",
    "# แปลงผลลัพธ์กลับเป็นข้อความ\n",
    "response = outputs[0][input_ids.shape[-1]:]\n",
    "print(tokenizer.decode(response, skip_special_tokens=True))"
   ]
  },
  {
   "cell_type": "code",
   "execution_count": 38,
   "id": "6aa207d0-8325-4b61-8fee-51082fe21fcd",
   "metadata": {},
   "outputs": [],
   "source": [
    "# !pip install transformers torch\n",
    "# !pip install 'accelerate>=0.26.0'\n",
    "\n",
    "# นำเข้าโมดูลที่ต้องการ\n",
    "from transformers import AutoTokenizer, AutoModelForCausalLM\n",
    "import torch\n",
    "\n",
    "def askTyphoon2(prompt: str):\n",
    "    # โหลดโมเดลและ tokenizer\n",
    "    model_id = \"scb10x/llama3.2-typhoon2-1b-instruct\"\n",
    "    tokenizer = AutoTokenizer.from_pretrained(model_id)\n",
    "    model = AutoModelForCausalLM.from_pretrained(model_id, torch_dtype=torch.bfloat16)\n",
    "    # model = AutoModelForCausalLM.from_pretrained(model_id, torch_dtype=torch.bfloat16, device_map=\"auto\")\n",
    "\n",
    "    # เตรียมข้อความนำเข้า\n",
    "    messages = [\n",
    "        {\"role\": \"system\", \"content\": \"คุณคือผู้ช่วย AI ที่ให้คำตอบอย่างดี มีหน้าที่แปลไทยเป็นอังกฤษเท่านั้น\"},\n",
    "        {\"role\": \"user\", \"content\": prompt}\n",
    "    ]\n",
    "    # แปลงข้อความเป็น token (คืนค่าเป็น tensor โดยตรง)\n",
    "    input_ids = tokenizer.apply_chat_template(messages, add_generation_prompt=True, return_tensors=\"pt\").to(model.device)\n",
    "    \n",
    "    # สร้าง attention_mask จาก input_ids (1 สำหรับ token จริง, 0 สำหรับ padding)\n",
    "    attention_mask = (input_ids != tokenizer.pad_token_id).long().to(model.device)\n",
    "    \n",
    "    # กำหนดพารามิเตอร์สำหรับการสร้างข้อความ\n",
    "    terminators = [tokenizer.eos_token_id, tokenizer.convert_tokens_to_ids(\"<|eot_id|>\")]\n",
    "    \n",
    "    # สร้างข้อความตอบกลับ\n",
    "    outputs = model.generate(\n",
    "        input_ids,\n",
    "        attention_mask=attention_mask,  # ส่ง attention_mask เข้าไป\n",
    "        max_new_tokens=512,\n",
    "        eos_token_id=terminators,\n",
    "        do_sample=True,\n",
    "        temperature=0.7,\n",
    "        top_p=0.95,\n",
    "        pad_token_id=tokenizer.pad_token_id  # กำหนด pad_token_id อย่างชัดเจน\n",
    "    )\n",
    "    \n",
    "    # แปลงผลลัพธ์กลับเป็นข้อความ\n",
    "    response = outputs[0][input_ids.shape[-1]:]\n",
    "    answer = tokenizer.decode(response, skip_special_tokens=True)\n",
    "    print(answer)"
   ]
  },
  {
   "cell_type": "code",
   "execution_count": 30,
   "id": "e8c54643-88a1-4ec2-af02-36e3acb24f3c",
   "metadata": {},
   "outputs": [
    {
     "name": "stdout",
     "output_type": "stream",
     "text": [
      "คนไทยชอบบ้านที่มีหลายชั้น เนื่องจากสภาพอากาศที่เปลี่ยนแปลงได้ง่าย และความสะดวกสบายในการใช้ชีวิตประจำวัน บ้านที่มีหลายชั้นมักมีการออกแบบที่เหมาะสมกับการใช้งานที่หลากหลาย เช่น ห้องนอน ห้องน้ำ และพื้นที่รับประทานอาหาร นอกจากนี้ยังสามารถสร้างพื้นที่พักผ่อนที่สวยงามและเป็นส่วนตัวได้อีกด้วย\n"
     ]
    }
   ],
   "source": [
    "askTyphoon2(\"บ้านกี่ชั้นคนไทยชอบ\")"
   ]
  },
  {
   "cell_type": "code",
   "execution_count": 31,
   "id": "226a7319-b75e-4758-84ad-7f571faf9a6b",
   "metadata": {},
   "outputs": [
    {
     "name": "stdout",
     "output_type": "stream",
     "text": [
      "คนไทยชอบกินอาหารที่หลากหลายและมีความเป็นเอกลักษณ์ เช่น ข้าวราดแกง, ต้มยำกุ้ง, ส้มตำ, และอาหารที่ใช้วัตถุดิบสดใหม่จากท้องถิ่น นอกจากนี้ยังมีการกินอาหารตามเทศกาลต่าง ๆ เช่น ข้าวเหนียวมะม่วงในวันลอยกระทงและขนมเบเกอรี่ในวันแม่ นอกจากนี้ยังมีการรับประทานอาหารที่มีส่วนผสมของสมุนไพรและเครื่องเทศไทย เช่น กระเทียม, หอม, และข่าในอาหารต่าง ๆ ด้วย\n"
     ]
    }
   ],
   "source": [
    "askTyphoon2(\"คนไทยชอบกินอะไร\")"
   ]
  },
  {
   "cell_type": "code",
   "execution_count": 32,
   "id": "3943c08b-7a85-4c21-af25-e5f4cb4cd4f4",
   "metadata": {},
   "outputs": [
    {
     "name": "stdout",
     "output_type": "stream",
     "text": [
      "คุณสามารถเขียนโปรแกรม JavaScript เพื่อคำนวณค่า 10! ได้ดังนี้:\n",
      "\n",
      "```javascript\n",
      "// คำนวณค่า 10!\n",
      "function factorial(n) {\n",
      "    if (n === 0) {\n",
      "        return 1; // 0! = 1\n",
      "    }\n",
      "    let result = 1;\n",
      "    for (let i = 1; i <= n; i++) {\n",
      "        result *= i; // นับจำนวนเท่าของตัวเลข\n",
      "    }\n",
      "    return result;\n",
      "}\n",
      "\n",
      "// ใช้งานฟังก์ชัน\n",
      "console.log(factorial(10)); // ค่า 10!\n",
      "```\n",
      "\n",
      "โปรแกรมนี้จะคำนวณค่า 10! โดยใช้ฟังก์ชัน `factorial` ที่รับค่าจำนวนเต็มเป็น input และคืนค่าผลลัพธ์เป็นจำนวนเต็มที่นับจำนวนเท่าของตัวเลขตั้งแต่ 1 ถึง n! นอกจากนี้ โปรแกรมนี้ยังแสดงผลลัพธ์ออกมาในหน้าต่าง console.\n"
     ]
    }
   ],
   "source": [
    "askTyphoon2(\"คุณเขียนโปรแกรมได้ใหม ขอตัวอย่าง javascript คำนวณค่า 10!\")"
   ]
  },
  {
   "cell_type": "code",
   "execution_count": 33,
   "id": "eb317f10-b01c-419b-8170-ba4e4c5a9b1b",
   "metadata": {},
   "outputs": [
    {
     "name": "stdout",
     "output_type": "stream",
     "text": [
      "นี่คือตัวอย่างโค้ด JavaScript ที่แปลงตัวเลขเป็นข้อความที่อ่านได้ โดยแสดงผลเป็นภาษาไทย เช่น 121 เป็น หนึ่งร้อยยี่สิบเอ็ด:\n",
      "\n",
      "```javascript\n",
      "function convertToThai(number) {\n",
      "    // แปลงตัวเลขเป็นข้อความ\n",
      "    let convertedNumber = number.toString();\n",
      "    convertedNumber = convertedNumber.replace(/-/g,''); // แปลงตัวเลขเป็นข้อความ\n",
      "    convertedNumber = convertedNumber.replace(/,/g, ', '); // แปลงตัวเลขเป็นข้อความ\n",
      "    convertedNumber = convertedNumber.replace(/,/g, ', '); // แปลงตัวเลขเป็นข้อความ\n",
      "    convertedNumber = convertedNumber.replace(/,/g, ', '); // แปลงตัวเลขเป็นข้อความ\n",
      "    convertedNumber = convertedNumber.replace(/,/g, ', '); // แปลงตัวเลขเป็นข้อความ\n",
      "    convertedNumber = convertedNumber.replace(/,/g, ', '); // แปลงตัวเลขเป็นข้อความ\n",
      "    convertedNumber = convertedNumber.replace(/,/g, ', '); // แปลงตัวเลขเป็นข้อความ\n",
      "    convertedNumber = convertedNumber.replace(/,/g, ', '); // แปลงตัวเลขเป็นข้อความ\n",
      "    convertedNumber = convertedNumber.replace(/,/g, ', '); // แปลงตัวเลขเป็นข้อความ\n",
      "    convertedNumber = convertedNumber.replace(/,/g, ', '); // แปลงตัวเลขเป็นข้อความ\n",
      "    convertedNumber = convertedNumber.replace(/,/g, ', '); // แปลงตัวเลขเป็นข้อความ\n",
      "    convertedNumber = convertedNumber.replace(/,/g, ', '); // แปลงตัวเลขเป็นข้อความ\n",
      "    convertedNumber = convertedNumber.replace(/,/g, ', '); // แปลงตัวเลขเป็นข้อความ\n",
      "    convertedNumber = convertedNumber.replace(/,/g, ', '); // แปลงตัวเลขเป็นข้อความ\n",
      "    convertedNumber = convertedNumber.replace(/,/g, ', '); // แปลงตัวเลขเป็นข้อความ\n",
      "    convertedNumber = convertedNumber.replace(/,/g, ', '); // แปลงตัวเลขเป็นข้อความ\n",
      "    convertedNumber = convertedNumber.replace(/,/g\n"
     ]
    }
   ],
   "source": [
    "askTyphoon2(\"คุณเขียนโปรแกรมได้ใหม ขอตัวอย่าง javascript เพื่อแปลง \")"
   ]
  },
  {
   "cell_type": "code",
   "execution_count": 39,
   "id": "66ef956d-94df-42d4-8e4b-dc43d4c77f86",
   "metadata": {},
   "outputs": [
    {
     "name": "stdout",
     "output_type": "stream",
     "text": [
      "ทำไมนางแบบ-นายแบบบนรันเวย์หรือในแคมเปญโฆษณาสุดหรูถึงต้องมีใบหน้าจริงจัง? บางคนก็ออกแนวบึ้งตึงไปเลย โดยจุดร่วมที่เหมือนกันหมดคือ ไร้รอยยิ้ม วันนี้เรามาลองหาเหตุผลในหลากหลายมุมมองกัน\n",
      "\n",
      "1. **ความเป็นมืออาชีพ**: ใบหน้าที่จริงจังช่วยสร้างความเป็นมืออาชีพให้กับงานศิลปะ โดยแสดงถึงความตั้งใจและความมุ่งมั่นในการแสดงออกถึงอารมณ์\n",
      "\n",
      "2. **การสื่อสารอารมณ์**: การมีใบหน้าจริงจังสามารถสื่อสารถึงอารมณ์ได้ดีกว่าการใช้สีหน้าที่อาจดูไม่จริงจัง ซึ่งทำให้ผู้ชมสามารถเชื่อมโยงกับเนื้อหาได้มากขึ้น\n",
      "\n",
      "3. **การถ่ายทอดอารมณ์**: ใบหน้าที่จริงจังสามารถถ่ายทอดอารมณ์และความรู้สึกได้อย่างลึกซึ้ง ซึ่งเป็นสิ่งสำคัญในการสร้างความประทับใจให้กับผู้ชม\n",
      "\n",
      "4. **การสร้างความเชื่อมั่น**: การแสดงออกถึงความจริงใจและการตั้งใจสามารถสร้างความเชื่อมั่นในตัวบุคคลได้มากขึ้น ซึ่งเป็นสิ่งที่ผู้ชมมักมองหาในศิลปะ\n",
      "\n",
      "5. **การสร้างบรรยากาศ**: ใบหน้าที่จริงจังสามารถสร้างบรรยากาศที่เป็นทางการและเหมาะสมสำหรับงานต่าง ๆ เช่น รันเวย์หรือแคมเปญโฆษณา\n",
      "\n",
      "การมีใบหน้าที่จริงจังไม่เพียงแต่ช่วยสื่อสารอารมณ์ แต่ยังช่วยสร้างความน่าเชื่อถือและความเป็นมืออาชีพในงานศิลปะที่ต้องการการสื่อสารที่ชัดเจนและมีความหมาย.\n"
     ]
    }
   ],
   "source": [
    "askTyphoon2(\"[เคยสงสัยกันบ้างหรือไม่ว่า ทำไมนางแบบ-นายแบบบนรันเวย์หรือแม้แต่ในแคมเปญโฆษณาสุดหรูถึงต้องมีใบหน้าจริงจัง? บางคนก็ออกแนวบึ้งตึงไปเลย โดยจุดร่วมที่เหมือนกันหมดก็คือ ไร้รอยยิ้ม วันนี้เรามาลองหาเหตุผลในหลากหลายมุมมองกัน]\")"
   ]
  },
  {
   "cell_type": "code",
   "execution_count": null,
   "id": "063ba380-0d2e-4bd5-af86-4328ab1b000b",
   "metadata": {},
   "outputs": [],
   "source": []
  }
 ],
 "metadata": {
  "kernelspec": {
   "display_name": "Python 3 (ipykernel)",
   "language": "python",
   "name": "python3"
  },
  "language_info": {
   "codemirror_mode": {
    "name": "ipython",
    "version": 3
   },
   "file_extension": ".py",
   "mimetype": "text/x-python",
   "name": "python",
   "nbconvert_exporter": "python",
   "pygments_lexer": "ipython3",
   "version": "3.11.6"
  }
 },
 "nbformat": 4,
 "nbformat_minor": 5
}
